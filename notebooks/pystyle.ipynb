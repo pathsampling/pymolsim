{
 "cells": [
  {
   "cell_type": "code",
   "execution_count": 1,
   "metadata": {},
   "outputs": [],
   "source": [
    "import pyscal.core as pc\n",
    "import pyscal.crystal_structures as pcs\n",
    "import os\n",
    "import numpy as np\n",
    "from tqdm import tqdm\n",
    "import matplotlib.pyplot as plt"
   ]
  },
  {
   "cell_type": "code",
   "execution_count": 2,
   "metadata": {},
   "outputs": [],
   "source": [
    "from pymolsim import Sim, Thermostat, Barostat\n",
    "from pymolsim.potential import LJ"
   ]
  },
  {
   "cell_type": "code",
   "execution_count": 3,
   "metadata": {},
   "outputs": [],
   "source": [
    "sys = pc.System()\n",
    "sys.read_inputfile(\"conf.dump\", customkeys=[\"mass\", \"vx\", \"vy\", \"vz\"])\n",
    "atoms = sys.atoms\n",
    "box = sys.box"
   ]
  },
  {
   "cell_type": "code",
   "execution_count": null,
   "metadata": {},
   "outputs": [],
   "source": []
  },
  {
   "cell_type": "code",
   "execution_count": 4,
   "metadata": {},
   "outputs": [],
   "source": [
    "sim = Sim(atoms, box)"
   ]
  },
  {
   "cell_type": "code",
   "execution_count": 5,
   "metadata": {},
   "outputs": [
    {
     "name": "stderr",
     "output_type": "stream",
     "text": [
      "/home/sarath/miniconda3/envs/lammps/lib/python3.7/site-packages/pymolsim-0.0.1-py3.7.egg/pymolsim/potential.py:34: RuntimeWarning: divide by zero encountered in true_divide\n",
      "/home/sarath/miniconda3/envs/lammps/lib/python3.7/site-packages/pymolsim-0.0.1-py3.7.egg/pymolsim/potential.py:38: RuntimeWarning: invalid value encountered in true_divide\n",
      "/home/sarath/miniconda3/envs/lammps/lib/python3.7/site-packages/pymolsim-0.0.1-py3.7.egg/pymolsim/potential.py:44: RuntimeWarning: divide by zero encountered in true_divide\n"
     ]
    }
   ],
   "source": [
    "sim.beta = 0.5\n",
    "sim.pressure = 0\n",
    "sim.dt = 0.0025\n",
    "lj = LJ(1.0, 1.0)\n",
    "sim.potential = lj\n",
    "th = Thermostat()\n",
    "th.lgamma = 0.03\n",
    "th.start(sim.dt, sim.beta, 2)\n",
    "sim.thermostat = th\n",
    "sim.start()\n",
    "sim.forces()"
   ]
  },
  {
   "cell_type": "code",
   "execution_count": 6,
   "metadata": {},
   "outputs": [],
   "source": [
    "sim.dump(0)"
   ]
  },
  {
   "cell_type": "code",
   "execution_count": null,
   "metadata": {},
   "outputs": [
    {
     "name": "stderr",
     "output_type": "stream",
     "text": [
      " 88%|████████▊ | 884/999 [00:22<00:03, 37.75it/s]"
     ]
    }
   ],
   "source": [
    "temps = []\n",
    "for i in tqdm(range(1, 1000)):\n",
    "    sim.md_langevin()\n",
    "    #sim.rescale_velocities()\n",
    "    sim.remap()\n",
    "    temps.append(sim.temperature)\n",
    "    if i%100 ==0:\n",
    "        sim.dump(i)"
   ]
  },
  {
   "cell_type": "code",
   "execution_count": null,
   "metadata": {},
   "outputs": [],
   "source": [
    "plt.plot(1/np.array(temps))"
   ]
  }
 ],
 "metadata": {
  "kernelspec": {
   "display_name": "lammps",
   "language": "python",
   "name": "lammps"
  },
  "language_info": {
   "codemirror_mode": {
    "name": "ipython",
    "version": 3
   },
   "file_extension": ".py",
   "mimetype": "text/x-python",
   "name": "python",
   "nbconvert_exporter": "python",
   "pygments_lexer": "ipython3",
   "version": "3.7.6"
  }
 },
 "nbformat": 4,
 "nbformat_minor": 4
}
