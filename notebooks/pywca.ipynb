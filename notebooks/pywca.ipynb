{
 "cells": [
  {
   "cell_type": "code",
   "execution_count": 15,
   "metadata": {},
   "outputs": [],
   "source": [
    "import pyscal.core as pc\n",
    "import pyscal.crystal_structures as pcs\n",
    "import os\n",
    "import numpy as np\n",
    "from tqdm import tqdm\n",
    "import matplotlib.pyplot as plt"
   ]
  },
  {
   "cell_type": "code",
   "execution_count": 16,
   "metadata": {},
   "outputs": [],
   "source": [
    "from pymolsim.sim import Sim\n",
    "from pymolsim.potential import WCA"
   ]
  },
  {
   "cell_type": "code",
   "execution_count": 17,
   "metadata": {},
   "outputs": [],
   "source": [
    "sys = pc.System()\n",
    "sys.read_inputfile(\"wca.dump\", customkeys=[\"vx\", \"vy\", \"vz\"])\n",
    "atoms = sys.atoms\n",
    "box = sys.box"
   ]
  },
  {
   "cell_type": "code",
   "execution_count": 30,
   "metadata": {},
   "outputs": [
    {
     "data": {
      "text/plain": [
       "1.5222426382903118"
      ]
     },
     "execution_count": 30,
     "metadata": {},
     "output_type": "execute_result"
    }
   ],
   "source": [
    "sys.get_distance(atoms[0], atoms[6])"
   ]
  },
  {
   "cell_type": "code",
   "execution_count": 29,
   "metadata": {},
   "outputs": [],
   "source": [
    "atoms[0].pos = [1.0, 0.95, 0.0]"
   ]
  },
  {
   "cell_type": "code",
   "execution_count": null,
   "metadata": {},
   "outputs": [],
   "source": [
    "[1.4105438, 1.0563968, 0.0]"
   ]
  },
  {
   "cell_type": "code",
   "execution_count": 18,
   "metadata": {},
   "outputs": [],
   "source": [
    "sim = Sim(atoms, box, customkeys=[\"type\", \"vx\", \"vy\", \"vz\"])"
   ]
  },
  {
   "cell_type": "code",
   "execution_count": 19,
   "metadata": {},
   "outputs": [
    {
     "data": {
      "text/plain": [
       "<pymolsim.sim.Sim at 0x7f39a143d450>"
      ]
     },
     "execution_count": 19,
     "metadata": {},
     "output_type": "execute_result"
    }
   ],
   "source": [
    "sim"
   ]
  },
  {
   "cell_type": "code",
   "execution_count": 5,
   "metadata": {},
   "outputs": [],
   "source": [
    "sim.dt = 0.002\n",
    "wca = WCA()\n",
    "sim.potential = wca"
   ]
  },
  {
   "cell_type": "code",
   "execution_count": 6,
   "metadata": {},
   "outputs": [
    {
     "name": "stderr",
     "output_type": "stream",
     "text": [
      "/home/sarath/miniconda3/envs/lammps/lib/python3.7/site-packages/pymolsim-0.0.1-py3.7.egg/pymolsim/potentials/wca.py:32: RuntimeWarning: divide by zero encountered in true_divide\n",
      "/home/sarath/miniconda3/envs/lammps/lib/python3.7/site-packages/pymolsim-0.0.1-py3.7.egg/pymolsim/potentials/wca.py:33: RuntimeWarning: invalid value encountered in true_divide\n",
      "/home/sarath/miniconda3/envs/lammps/lib/python3.7/site-packages/pymolsim-0.0.1-py3.7.egg/pymolsim/potentials/wca.py:74: RuntimeWarning: divide by zero encountered in true_divide\n"
     ]
    },
    {
     "data": {
      "text/plain": [
       "20.4251817073325"
      ]
     },
     "execution_count": 6,
     "metadata": {},
     "output_type": "execute_result"
    }
   ],
   "source": [
    "sim.forces()\n",
    "sim.potential_energy()"
   ]
  },
  {
   "cell_type": "code",
   "execution_count": 7,
   "metadata": {},
   "outputs": [
    {
     "name": "stdout",
     "output_type": "stream",
     "text": [
      "running MD Verlet\n"
     ]
    }
   ],
   "source": [
    "sim.start()\n",
    "sim.forces()"
   ]
  },
  {
   "cell_type": "code",
   "execution_count": 8,
   "metadata": {},
   "outputs": [],
   "source": [
    "sim.dump(0)"
   ]
  },
  {
   "cell_type": "code",
   "execution_count": 9,
   "metadata": {},
   "outputs": [
    {
     "name": "stderr",
     "output_type": "stream",
     "text": [
      "  0%|          | 176/99999 [00:00<00:56, 1754.72it/s]"
     ]
    },
    {
     "name": "stdout",
     "output_type": "stream",
     "text": [
      "1.0629757395832176 15.050823153646645\n",
      "0.9220274494198414 32.85617064184295\n"
     ]
    },
    {
     "name": "stderr",
     "output_type": "stream",
     "text": [
      "  0%|          | 303/99999 [00:00<01:03, 1572.88it/s]"
     ]
    },
    {
     "name": "stdout",
     "output_type": "stream",
     "text": [
      "0.9160287987432829 35.1981204964396\n"
     ]
    },
    {
     "name": "stderr",
     "output_type": "stream",
     "text": [
      "  0%|          | 484/99999 [00:00<01:00, 1635.21it/s]"
     ]
    },
    {
     "name": "stdout",
     "output_type": "stream",
     "text": [
      "1.024728410285465 18.10313609822493\n",
      "1.076533439363633 13.79218289621054\n",
      "1.0784578417323214 14.393837478819568\n"
     ]
    },
    {
     "name": "stderr",
     "output_type": "stream",
     "text": [
      "  1%|          | 644/99999 [00:00<01:01, 1621.02it/s]"
     ]
    },
    {
     "name": "stdout",
     "output_type": "stream",
     "text": [
      "1.0784389106857049 14.704754974445018\n"
     ]
    },
    {
     "name": "stderr",
     "output_type": "stream",
     "text": [
      "  1%|          | 997/99999 [00:00<00:58, 1695.51it/s]"
     ]
    },
    {
     "name": "stdout",
     "output_type": "stream",
     "text": [
      "1.0787758460936117 16.19302378005809\n",
      "1.1051270016154562 14.236186264249397\n",
      "1.5526587682446482 31.393187774660582\n",
      "1.6130227695356727 32.32812356410106\n"
     ]
    },
    {
     "name": "stderr",
     "output_type": "stream",
     "text": [
      "  1%|▏         | 1384/99999 [00:00<00:54, 1807.80it/s]"
     ]
    },
    {
     "name": "stdout",
     "output_type": "stream",
     "text": [
      "1.5648277911547022 32.85771617191595\n",
      "1.652623097842253 32.92871457520832\n",
      "1.5584411051828058 32.38645255381453\n"
     ]
    },
    {
     "name": "stderr",
     "output_type": "stream",
     "text": [
      "  2%|▏         | 1578/99999 [00:00<00:53, 1843.91it/s]"
     ]
    },
    {
     "name": "stdout",
     "output_type": "stream",
     "text": [
      "1.6958241558670695 31.863050643365554\n"
     ]
    },
    {
     "name": "stderr",
     "output_type": "stream",
     "text": [
      "  2%|▏         | 1757/99999 [00:01<00:54, 1798.89it/s]"
     ]
    },
    {
     "name": "stdout",
     "output_type": "stream",
     "text": [
      "1.7045705454768043 34.59973215311922\n",
      "1.5625801365596022 30.42354904046085\n",
      "1.655821411351248 31.201735543490873\n"
     ]
    },
    {
     "name": "stderr",
     "output_type": "stream",
     "text": [
      "  2%|▏         | 1948/99999 [00:01<00:53, 1829.81it/s]"
     ]
    },
    {
     "name": "stdout",
     "output_type": "stream",
     "text": [
      "1.6652296345036268 31.819814575032535\n"
     ]
    },
    {
     "name": "stderr",
     "output_type": "stream",
     "text": [
      "  2%|▏         | 2141/99999 [00:01<00:52, 1857.64it/s]"
     ]
    },
    {
     "name": "stdout",
     "output_type": "stream",
     "text": [
      "1.6860175612192039 30.476425593084933\n",
      "1.6711024410813746 35.022006812509474\n",
      "1.6525410255205442 37.15217851467037\n"
     ]
    },
    {
     "name": "stderr",
     "output_type": "stream",
     "text": [
      "  2%|▏         | 2329/99999 [00:01<00:52, 1861.63it/s]"
     ]
    },
    {
     "name": "stdout",
     "output_type": "stream",
     "text": [
      "1.6365002448419774 29.822507282145313\n"
     ]
    },
    {
     "name": "stderr",
     "output_type": "stream",
     "text": [
      "  3%|▎         | 2516/99999 [00:01<00:52, 1863.82it/s]"
     ]
    },
    {
     "name": "stdout",
     "output_type": "stream",
     "text": [
      "1.6939618190832044 32.00137096470914\n",
      "1.5247323782776203 30.062833753357033\n",
      "1.7446447782598629 30.924305683125475\n"
     ]
    },
    {
     "name": "stderr",
     "output_type": "stream",
     "text": [
      "  3%|▎         | 2714/99999 [00:01<00:51, 1897.13it/s]"
     ]
    },
    {
     "name": "stdout",
     "output_type": "stream",
     "text": [
      "1.5853441241756956 32.179734525378834\n"
     ]
    },
    {
     "name": "stderr",
     "output_type": "stream",
     "text": [
      "  3%|▎         | 2906/99999 [00:01<00:51, 1903.29it/s]"
     ]
    },
    {
     "name": "stdout",
     "output_type": "stream",
     "text": [
      "1.6869956827186101 31.009320228581558\n",
      "1.5802862003749722 33.165059486971174\n",
      "1.5277929890466209 28.948667007483408\n"
     ]
    },
    {
     "name": "stderr",
     "output_type": "stream",
     "text": [
      "  3%|▎         | 3103/99999 [00:01<00:50, 1921.81it/s]"
     ]
    },
    {
     "name": "stdout",
     "output_type": "stream",
     "text": [
      "1.7298034810825118 31.90477873005158\n"
     ]
    },
    {
     "name": "stderr",
     "output_type": "stream",
     "text": [
      "  3%|▎         | 3296/99999 [00:01<00:50, 1912.13it/s]"
     ]
    },
    {
     "name": "stdout",
     "output_type": "stream",
     "text": [
      "1.5116470059680605 28.896877236615403\n",
      "1.6742842337232502 30.529971926457055\n",
      "1.5131487927842608 30.710951553319454\n"
     ]
    },
    {
     "name": "stderr",
     "output_type": "stream",
     "text": [
      "  3%|▎         | 3492/99999 [00:01<00:50, 1922.79it/s]"
     ]
    },
    {
     "name": "stdout",
     "output_type": "stream",
     "text": [
      "1.7343071818544644 30.82774559127987\n"
     ]
    },
    {
     "name": "stderr",
     "output_type": "stream",
     "text": [
      "  4%|▎         | 3685/99999 [00:02<00:50, 1891.82it/s]"
     ]
    },
    {
     "name": "stdout",
     "output_type": "stream",
     "text": [
      "1.6208189738476755 31.075398747619733\n",
      "1.6259472389245622 36.60275542839593\n",
      "1.6496996770819317 32.422030814219966\n"
     ]
    },
    {
     "name": "stderr",
     "output_type": "stream",
     "text": [
      "  4%|▍         | 3884/99999 [00:02<00:50, 1916.20it/s]"
     ]
    },
    {
     "name": "stdout",
     "output_type": "stream",
     "text": [
      "1.5751180108424416 31.165874391202394\n"
     ]
    },
    {
     "name": "stderr",
     "output_type": "stream",
     "text": [
      "  4%|▍         | 4267/99999 [00:02<00:50, 1897.10it/s]"
     ]
    },
    {
     "name": "stdout",
     "output_type": "stream",
     "text": [
      "1.6564614297899085 33.823762589252794\n",
      "1.7753144744972664 29.682608807564595\n",
      "1.5281736509457504 29.5037809201216\n",
      "1.6248771646058335 32.47109932053162\n"
     ]
    },
    {
     "name": "stderr",
     "output_type": "stream",
     "text": [
      "  5%|▍         | 4647/99999 [00:02<00:50, 1890.28it/s]"
     ]
    },
    {
     "name": "stdout",
     "output_type": "stream",
     "text": [
      "1.626333169177595 30.2324263824056\n",
      "1.665929600561447 31.040138869805006\n",
      "1.6546638120377322 30.221958937922075\n",
      "1.5911874365505727 29.562992845304052\n"
     ]
    },
    {
     "name": "stderr",
     "output_type": "stream",
     "text": [
      "  5%|▌         | 5024/99999 [00:02<00:51, 1855.11it/s]"
     ]
    },
    {
     "name": "stdout",
     "output_type": "stream",
     "text": [
      "1.538850587724772 33.41970803101123\n",
      "1.6100439014719643 31.987186158524032\n",
      "1.6357849700549496 32.866410669979295\n",
      "1.5766052791040353 33.005800794986975\n"
     ]
    },
    {
     "name": "stderr",
     "output_type": "stream",
     "text": [
      "  5%|▌         | 5400/99999 [00:02<00:51, 1823.54it/s]"
     ]
    },
    {
     "name": "stdout",
     "output_type": "stream",
     "text": [
      "1.5734996709736213 30.890598298242192\n",
      "1.6431651900780357 32.85913543681105\n",
      "1.5501739122996656 33.530837030601035\n",
      "1.5311179361344216 31.752154277499283\n"
     ]
    },
    {
     "name": "stderr",
     "output_type": "stream",
     "text": [
      "  6%|▌         | 5776/99999 [00:03<00:50, 1850.69it/s]"
     ]
    },
    {
     "name": "stdout",
     "output_type": "stream",
     "text": [
      "1.6325957698301043 32.94512781959824\n",
      "1.596526203144952 32.51888856400251\n",
      "1.5990707579724683 31.469963426204828\n"
     ]
    },
    {
     "name": "stderr",
     "output_type": "stream",
     "text": [
      "  6%|▌         | 5969/99999 [00:03<00:50, 1872.31it/s]"
     ]
    },
    {
     "name": "stdout",
     "output_type": "stream",
     "text": [
      "1.642003479757745 32.448826759887154\n"
     ]
    },
    {
     "name": "stderr",
     "output_type": "stream",
     "text": [
      "  6%|▌         | 6161/99999 [00:03<00:49, 1884.24it/s]"
     ]
    },
    {
     "name": "stdout",
     "output_type": "stream",
     "text": [
      "1.6058254152542595 30.70881922210247\n",
      "1.662351465522059 32.115062645378785\n",
      "1.6004325515168407 32.65957195756651\n"
     ]
    },
    {
     "name": "stderr",
     "output_type": "stream",
     "text": [
      "  6%|▋         | 6353/99999 [00:03<00:49, 1891.67it/s]"
     ]
    },
    {
     "name": "stdout",
     "output_type": "stream",
     "text": [
      "1.5733731867290857 33.10122268013843\n"
     ]
    },
    {
     "name": "stderr",
     "output_type": "stream",
     "text": [
      "  7%|▋         | 6543/99999 [00:03<00:49, 1881.49it/s]"
     ]
    },
    {
     "name": "stdout",
     "output_type": "stream",
     "text": [
      "1.665715509266334 33.42134261986311\n",
      "1.6652128581717134 33.4241956707563\n",
      "1.6723627361606996 29.8807901641064\n",
      "1.6410231225332808 32.44836109864082\n"
     ]
    },
    {
     "name": "stderr",
     "output_type": "stream",
     "text": [
      "  7%|▋         | 6909/99999 [00:03<00:54, 1697.01it/s]"
     ]
    },
    {
     "name": "stdout",
     "output_type": "stream",
     "text": [
      "1.5025631414623706 28.137129821183485\n",
      "1.7312904370917426 32.36491744793856\n",
      "1.5282160018555997 28.82736054146745\n"
     ]
    },
    {
     "name": "stderr",
     "output_type": "stream",
     "text": [
      "  7%|▋         | 7081/99999 [00:03<00:55, 1663.21it/s]"
     ]
    },
    {
     "name": "stdout",
     "output_type": "stream",
     "text": [
      "1.5356596755695666 30.332203238271596\n"
     ]
    },
    {
     "name": "stderr",
     "output_type": "stream",
     "text": [
      "  7%|▋         | 7249/99999 [00:03<00:56, 1641.48it/s]"
     ]
    },
    {
     "name": "stdout",
     "output_type": "stream",
     "text": [
      "1.6604120818844894 31.669416336381783\n",
      "1.581457240287833 33.69406924175165\n"
     ]
    },
    {
     "name": "stderr",
     "output_type": "stream",
     "text": [
      "  7%|▋         | 7415/99999 [00:04<00:59, 1544.47it/s]"
     ]
    },
    {
     "name": "stdout",
     "output_type": "stream",
     "text": [
      "1.6096436715371691 31.00312513260804\n"
     ]
    },
    {
     "name": "stderr",
     "output_type": "stream",
     "text": [
      "  8%|▊         | 7585/99999 [00:04<00:58, 1587.00it/s]"
     ]
    },
    {
     "name": "stdout",
     "output_type": "stream",
     "text": [
      "1.5897676351446113 31.00358564953662\n",
      "1.5881958224286343 29.984567266325712\n",
      "1.6420925002647244 34.24442187826272\n"
     ]
    },
    {
     "name": "stderr",
     "output_type": "stream",
     "text": [
      "  8%|▊         | 7782/99999 [00:04<00:54, 1684.09it/s]"
     ]
    },
    {
     "name": "stdout",
     "output_type": "stream",
     "text": [
      "1.5942114042732678 32.69882295701126\n"
     ]
    },
    {
     "name": "stderr",
     "output_type": "stream",
     "text": [
      "  8%|▊         | 8150/99999 [00:04<00:52, 1761.88it/s]"
     ]
    },
    {
     "name": "stdout",
     "output_type": "stream",
     "text": [
      "1.537915449855335 30.352688644934403\n",
      "1.629408697976446 31.055195193378047\n",
      "1.6273283785797723 33.099579313916664\n",
      "1.5965734418222997 32.241767873220255\n"
     ]
    },
    {
     "name": "stderr",
     "output_type": "stream",
     "text": [
      "  8%|▊         | 8499/99999 [00:04<00:55, 1661.28it/s]"
     ]
    },
    {
     "name": "stdout",
     "output_type": "stream",
     "text": [
      "1.6212805631167115 31.196615759568555\n",
      "1.6805244806200634 30.498559971149746\n",
      "1.505324576814504 33.413207061109716\n",
      "1.666522185970789 30.931114866423023\n"
     ]
    },
    {
     "name": "stderr",
     "output_type": "stream",
     "text": [
      "  9%|▉         | 8834/99999 [00:04<00:58, 1559.79it/s]"
     ]
    },
    {
     "name": "stdout",
     "output_type": "stream",
     "text": [
      "1.581124303247854 30.40300853902428\n",
      "1.6279765996208695 30.315517095853018\n",
      "1.6327840866906056 31.502715506443124\n"
     ]
    },
    {
     "name": "stderr",
     "output_type": "stream",
     "text": [
      "  9%|▉         | 9023/99999 [00:05<00:55, 1645.43it/s]"
     ]
    },
    {
     "name": "stdout",
     "output_type": "stream",
     "text": [
      "1.567278460854961 30.625926016096273\n"
     ]
    },
    {
     "name": "stderr",
     "output_type": "stream",
     "text": [
      "  9%|▉         | 9208/99999 [00:05<00:53, 1700.69it/s]"
     ]
    },
    {
     "name": "stdout",
     "output_type": "stream",
     "text": [
      "1.6360100174006411 34.30572172152459\n",
      "1.579563110746592 30.759907967954703\n",
      "1.6609417254459007 30.67733096417061\n"
     ]
    },
    {
     "name": "stderr",
     "output_type": "stream",
     "text": [
      "  9%|▉         | 9400/99999 [00:05<00:51, 1756.35it/s]"
     ]
    },
    {
     "name": "stdout",
     "output_type": "stream",
     "text": [
      "1.6063521830519052 32.39315578467251\n"
     ]
    },
    {
     "name": "stderr",
     "output_type": "stream",
     "text": [
      " 10%|▉         | 9585/99999 [00:05<00:50, 1781.81it/s]"
     ]
    },
    {
     "name": "stdout",
     "output_type": "stream",
     "text": [
      "1.6702705186090168 32.19008421946066\n",
      "1.5953739053423022 33.89053619040132\n",
      "1.6464057948575146 32.08897551364454\n"
     ]
    },
    {
     "name": "stderr",
     "output_type": "stream",
     "text": [
      " 10%|▉         | 9780/99999 [00:05<00:49, 1825.98it/s]"
     ]
    },
    {
     "name": "stdout",
     "output_type": "stream",
     "text": [
      "1.6429846400776038 34.40912265548994\n"
     ]
    },
    {
     "name": "stderr",
     "output_type": "stream",
     "text": [
      " 10%|▉         | 9964/99999 [00:05<00:52, 1729.13it/s]"
     ]
    },
    {
     "name": "stdout",
     "output_type": "stream",
     "text": [
      "1.5392926689742252 33.445622656247366\n",
      "1.6145548228807243 36.02609551500305\n",
      "1.6172445816725547 32.79986724617002\n"
     ]
    },
    {
     "name": "stderr",
     "output_type": "stream",
     "text": [
      " 10%|█         | 10148/99999 [00:05<00:51, 1758.56it/s]"
     ]
    },
    {
     "name": "stdout",
     "output_type": "stream",
     "text": [
      "1.6787882286669482 33.73064745799113\n"
     ]
    },
    {
     "name": "stderr",
     "output_type": "stream",
     "text": [
      " 11%|█         | 10525/99999 [00:05<00:49, 1817.77it/s]"
     ]
    },
    {
     "name": "stdout",
     "output_type": "stream",
     "text": [
      "1.6636908779214397 33.54958343948306\n",
      "1.631424256404937 33.23039681305171\n",
      "1.6157702584966156 30.856592990454068\n",
      "1.672142543200756 32.16505666811301\n"
     ]
    },
    {
     "name": "stderr",
     "output_type": "stream",
     "text": [
      " 11%|█         | 10895/99999 [00:06<00:50, 1779.04it/s]"
     ]
    },
    {
     "name": "stdout",
     "output_type": "stream",
     "text": [
      "1.565253062868027 32.87175143317427\n",
      "1.615314268229699 32.69687026501885\n",
      "1.678907520877187 29.447259971588807\n",
      "1.533956616093133 31.299992477271935\n"
     ]
    },
    {
     "name": "stderr",
     "output_type": "stream",
     "text": [
      " 11%|█▏        | 11291/99999 [00:06<00:47, 1875.16it/s]"
     ]
    },
    {
     "name": "stdout",
     "output_type": "stream",
     "text": [
      "1.7443275450558842 31.7916967628739\n",
      "1.4901654772004869 30.349901622698788\n",
      "1.7942029334696434 28.876180284134943\n"
     ]
    },
    {
     "name": "stderr",
     "output_type": "stream",
     "text": [
      " 11%|█▏        | 11490/99999 [00:06<00:46, 1905.78it/s]"
     ]
    },
    {
     "name": "stdout",
     "output_type": "stream",
     "text": [
      "1.609426910736622 32.41289537476251\n"
     ]
    },
    {
     "name": "stderr",
     "output_type": "stream",
     "text": [
      " 12%|█▏        | 11688/99999 [00:06<00:45, 1925.82it/s]"
     ]
    },
    {
     "name": "stdout",
     "output_type": "stream",
     "text": [
      "1.6152207044497584 32.6831605115577\n",
      "1.7502754683239508 31.781659186467838\n",
      "1.5061345792342002 29.624965190087273\n"
     ]
    },
    {
     "name": "stderr",
     "output_type": "stream",
     "text": [
      " 12%|█▏        | 11882/99999 [00:06<00:46, 1906.60it/s]"
     ]
    },
    {
     "name": "stdout",
     "output_type": "stream",
     "text": [
      "1.7420959297917558 31.062458516336704\n"
     ]
    },
    {
     "name": "stderr",
     "output_type": "stream",
     "text": [
      " 12%|█▏        | 12074/99999 [00:06<00:46, 1906.30it/s]"
     ]
    },
    {
     "name": "stdout",
     "output_type": "stream",
     "text": [
      "1.669916362985922 31.35397915374013\n",
      "1.4851147286715984 28.163293487538056\n",
      "1.7756448939528842 29.94123173099564\n"
     ]
    },
    {
     "name": "stderr",
     "output_type": "stream",
     "text": [
      " 12%|█▏        | 12270/99999 [00:06<00:45, 1920.47it/s]"
     ]
    },
    {
     "name": "stdout",
     "output_type": "stream",
     "text": [
      "1.5383908643141562 33.81602058893495\n"
     ]
    },
    {
     "name": "stderr",
     "output_type": "stream",
     "text": [
      " 12%|█▏        | 12463/99999 [00:06<00:48, 1815.08it/s]"
     ]
    },
    {
     "name": "stdout",
     "output_type": "stream",
     "text": [
      "1.6783415465588192 32.786000248622564\n",
      "1.6451349277015623 34.4297973337718\n",
      "1.5721630927639612 34.15714133716146\n",
      "1.6747856169635813 33.39121342616928\n"
     ]
    },
    {
     "name": "stderr",
     "output_type": "stream",
     "text": [
      " 13%|█▎        | 12839/99999 [00:07<00:48, 1795.98it/s]"
     ]
    },
    {
     "name": "stdout",
     "output_type": "stream",
     "text": [
      "1.556338545643747 30.098561342596497\n",
      "1.7293101661722012 30.607733285420906\n",
      "1.5627818703361824 31.319984155759187\n"
     ]
    },
    {
     "name": "stderr",
     "output_type": "stream",
     "text": [
      " 13%|█▎        | 13038/99999 [00:07<00:47, 1847.88it/s]"
     ]
    },
    {
     "name": "stdout",
     "output_type": "stream",
     "text": [
      "1.6022519815892953 30.06268487715172\n"
     ]
    },
    {
     "name": "stderr",
     "output_type": "stream",
     "text": [
      " 13%|█▎        | 13225/99999 [00:07<00:47, 1842.54it/s]"
     ]
    },
    {
     "name": "stdout",
     "output_type": "stream",
     "text": [
      "1.6228799637064386 31.358900136615315\n",
      "1.5937100455238509 29.222925790526112\n",
      "1.6133011936211024 29.845239588509166\n"
     ]
    },
    {
     "name": "stderr",
     "output_type": "stream",
     "text": [
      " 13%|█▎        | 13411/99999 [00:07<00:47, 1819.80it/s]"
     ]
    },
    {
     "name": "stdout",
     "output_type": "stream",
     "text": [
      "1.610848828753626 32.81025738233099\n"
     ]
    },
    {
     "name": "stderr",
     "output_type": "stream",
     "text": [
      " 14%|█▎        | 13599/99999 [00:07<00:47, 1835.75it/s]"
     ]
    },
    {
     "name": "stdout",
     "output_type": "stream",
     "text": [
      "1.6021767963146774 34.52751905157848\n",
      "1.6243335979009468 33.05592422670795\n",
      "1.6172681543037921 33.342001776977426\n"
     ]
    },
    {
     "name": "stderr",
     "output_type": "stream",
     "text": [
      " 14%|█▍        | 13784/99999 [00:07<00:46, 1839.22it/s]"
     ]
    },
    {
     "name": "stdout",
     "output_type": "stream",
     "text": [
      "1.6520434856174824 33.79481627338003\n"
     ]
    },
    {
     "name": "stderr",
     "output_type": "stream",
     "text": [
      " 14%|█▍        | 13969/99999 [00:07<00:48, 1778.42it/s]"
     ]
    },
    {
     "name": "stdout",
     "output_type": "stream",
     "text": [
      "1.6457236221283686 33.05152323828936\n",
      "1.5496073656998914 31.13315762084778\n",
      "1.6280857894364318 34.49063697739109\n"
     ]
    },
    {
     "name": "stderr",
     "output_type": "stream",
     "text": [
      " 14%|█▍        | 14168/99999 [00:07<00:46, 1835.77it/s]"
     ]
    },
    {
     "name": "stdout",
     "output_type": "stream",
     "text": [
      "1.6064112574413147 29.65143812614817\n"
     ]
    },
    {
     "name": "stderr",
     "output_type": "stream",
     "text": [
      " 15%|█▍        | 14537/99999 [00:08<00:48, 1770.75it/s]"
     ]
    },
    {
     "name": "stdout",
     "output_type": "stream",
     "text": [
      "1.6100027278957492 35.33257146071211\n",
      "1.6356394543142179 32.66254480998079\n",
      "1.4518176495033701 29.629261422418164\n",
      "1.718303834286911 32.27736594810252\n"
     ]
    },
    {
     "name": "stderr",
     "output_type": "stream",
     "text": [
      " 15%|█▍        | 14900/99999 [00:08<00:48, 1765.12it/s]"
     ]
    },
    {
     "name": "stdout",
     "output_type": "stream",
     "text": [
      "1.5454700945375828 31.312558837017306\n",
      "1.6069208530614578 30.476183288050848\n",
      "1.6817389308754036 30.521305495479645\n",
      "1.6488899260798622 31.7078085296113\n"
     ]
    },
    {
     "name": "stderr",
     "output_type": "stream",
     "text": [
      " 15%|█▌        | 15262/99999 [00:08<00:47, 1766.95it/s]"
     ]
    },
    {
     "name": "stdout",
     "output_type": "stream",
     "text": [
      "1.6164566658433257 33.27374338535792\n",
      "1.6527673049134375 29.872611698489337\n",
      "1.6431820096691963 32.742272760998496\n"
     ]
    },
    {
     "name": "stderr",
     "output_type": "stream",
     "text": [
      " 15%|█▌        | 15440/99999 [00:08<00:48, 1740.68it/s]"
     ]
    },
    {
     "name": "stdout",
     "output_type": "stream",
     "text": [
      "1.5254164743857015 28.965812488474562\n"
     ]
    },
    {
     "name": "stderr",
     "output_type": "stream",
     "text": [
      " 16%|█▌        | 15624/99999 [00:08<00:47, 1768.72it/s]"
     ]
    },
    {
     "name": "stdout",
     "output_type": "stream",
     "text": [
      "1.710254016365095 32.93940114812523\n",
      "1.6639288737530327 33.01406289141929\n",
      "1.5676022413389334 28.64882942808765\n"
     ]
    },
    {
     "name": "stderr",
     "output_type": "stream",
     "text": [
      " 16%|█▌        | 15815/99999 [00:08<00:46, 1807.02it/s]"
     ]
    },
    {
     "name": "stdout",
     "output_type": "stream",
     "text": [
      "1.6395839755393884 35.51116411046131\n"
     ]
    },
    {
     "name": "stderr",
     "output_type": "stream",
     "text": [
      " 16%|█▌        | 15997/99999 [00:08<00:47, 1768.49it/s]"
     ]
    },
    {
     "name": "stdout",
     "output_type": "stream",
     "text": [
      "1.5991166883439185 30.02880981136701\n",
      "1.7181391091535687 30.90151209351628\n",
      "1.502618210388478 30.219566020638332\n"
     ]
    },
    {
     "name": "stderr",
     "output_type": "stream",
     "text": [
      " 16%|█▌        | 16177/99999 [00:09<00:47, 1775.88it/s]"
     ]
    },
    {
     "name": "stdout",
     "output_type": "stream",
     "text": [
      "1.7300384861320717 30.737686605613842\n"
     ]
    },
    {
     "name": "stderr",
     "output_type": "stream",
     "text": [
      " 17%|█▋        | 16545/99999 [00:09<00:46, 1797.24it/s]"
     ]
    },
    {
     "name": "stdout",
     "output_type": "stream",
     "text": [
      "1.5522877562468653 31.739800985395867\n",
      "1.650952674076639 31.68799757617877\n",
      "1.6349822495833686 30.292175926224743\n",
      "1.579939497988957 31.367392334141048\n"
     ]
    },
    {
     "name": "stderr",
     "output_type": "stream",
     "text": [
      " 17%|█▋        | 16915/99999 [00:09<00:45, 1813.14it/s]"
     ]
    },
    {
     "name": "stdout",
     "output_type": "stream",
     "text": [
      "1.6073142212104403 31.871161788998457\n",
      "1.6684012101858061 29.80861448304227\n",
      "1.598960822792963 29.941167010929064\n",
      "1.6137173477345848 30.488741108046426\n"
     ]
    },
    {
     "name": "stderr",
     "output_type": "stream",
     "text": [
      " 17%|█▋        | 17283/99999 [00:09<00:46, 1781.62it/s]"
     ]
    },
    {
     "name": "stdout",
     "output_type": "stream",
     "text": [
      "1.6823454372777122 31.363262876319553\n",
      "1.4506578830001708 25.817922960389296\n",
      "1.755417188310341 30.02568130384574\n",
      "1.6826425284017514 33.14090084097774\n"
     ]
    },
    {
     "name": "stderr",
     "output_type": "stream",
     "text": [
      " 18%|█▊        | 17666/99999 [00:09<00:44, 1847.94it/s]"
     ]
    },
    {
     "name": "stdout",
     "output_type": "stream",
     "text": [
      "1.6247501263620778 32.1786974879384\n",
      "1.6391676752035034 32.034621759776954\n",
      "1.6955038062838386 32.901095106766135\n"
     ]
    },
    {
     "name": "stderr",
     "output_type": "stream",
     "text": [
      " 18%|█▊        | 17860/99999 [00:09<00:43, 1874.08it/s]"
     ]
    },
    {
     "name": "stdout",
     "output_type": "stream",
     "text": [
      "1.5842268376338724 36.20984780798091\n"
     ]
    },
    {
     "name": "stderr",
     "output_type": "stream",
     "text": [
      " 18%|█▊        | 18048/99999 [00:10<00:45, 1796.51it/s]"
     ]
    },
    {
     "name": "stdout",
     "output_type": "stream",
     "text": [
      "1.6443637955055177 30.025464300512173\n",
      "1.6357832741238763 32.671314471352275\n",
      "1.569739590199251 32.11674753573224\n"
     ]
    },
    {
     "name": "stderr",
     "output_type": "stream",
     "text": [
      " 18%|█▊        | 18236/99999 [00:10<00:44, 1819.51it/s]"
     ]
    },
    {
     "name": "stdout",
     "output_type": "stream",
     "text": [
      "1.7261509483565642 30.19843505892359\n"
     ]
    },
    {
     "name": "stderr",
     "output_type": "stream",
     "text": [
      " 18%|█▊        | 18419/99999 [00:10<00:45, 1774.19it/s]"
     ]
    },
    {
     "name": "stdout",
     "output_type": "stream",
     "text": [
      "1.5615446792822152 34.52665705704214\n",
      "1.695245367744534 29.68812919602511\n",
      "1.5798697516605182 33.74623735053485\n"
     ]
    },
    {
     "name": "stderr",
     "output_type": "stream",
     "text": [
      " 19%|█▊        | 18598/99999 [00:10<00:46, 1752.57it/s]"
     ]
    },
    {
     "name": "stdout",
     "output_type": "stream",
     "text": [
      "1.6545097836620246 30.624267105155198\n"
     ]
    },
    {
     "name": "stderr",
     "output_type": "stream",
     "text": [
      " 19%|█▉        | 18785/99999 [00:10<00:45, 1785.77it/s]"
     ]
    },
    {
     "name": "stdout",
     "output_type": "stream",
     "text": [
      "1.6951436326239553 30.95299422222777\n",
      "1.5647671198599082 30.022489669780434\n",
      "1.507947833531395 29.079320048474337\n"
     ]
    },
    {
     "name": "stderr",
     "output_type": "stream",
     "text": [
      " 19%|█▉        | 18965/99999 [00:10<00:45, 1764.46it/s]"
     ]
    },
    {
     "name": "stdout",
     "output_type": "stream",
     "text": [
      "1.812196162816901 27.572149443971053\n"
     ]
    },
    {
     "name": "stderr",
     "output_type": "stream",
     "text": [
      " 19%|█▉        | 19331/99999 [00:10<00:45, 1781.29it/s]"
     ]
    },
    {
     "name": "stdout",
     "output_type": "stream",
     "text": [
      "1.4221939590478314 27.957355308279645\n",
      "1.749567022556945 29.517138587135562\n",
      "1.5097122338948956 35.17483353248847\n",
      "1.7201025491176434 32.59475101040034\n"
     ]
    },
    {
     "name": "stderr",
     "output_type": "stream",
     "text": [
      " 20%|█▉        | 19705/99999 [00:10<00:43, 1829.28it/s]"
     ]
    },
    {
     "name": "stdout",
     "output_type": "stream",
     "text": [
      "1.680701730777324 31.720876909413462\n",
      "1.5761465975689912 33.398363059735615\n",
      "1.635152645220758 30.141459305811292\n",
      "1.5994310267938872 32.571838714712584\n"
     ]
    },
    {
     "name": "stderr",
     "output_type": "stream",
     "text": [
      " 20%|██        | 20083/99999 [00:11<00:43, 1853.00it/s]"
     ]
    },
    {
     "name": "stdout",
     "output_type": "stream",
     "text": [
      "1.6622266988062422 31.339439566989235\n",
      "1.6676280908219823 32.13936589505406\n",
      "1.6058960850290547 34.18734618575777\n"
     ]
    },
    {
     "name": "stderr",
     "output_type": "stream",
     "text": [
      " 20%|██        | 20269/99999 [00:11<00:43, 1836.02it/s]"
     ]
    },
    {
     "name": "stdout",
     "output_type": "stream",
     "text": [
      "1.6418682964452358 33.399494158414804\n"
     ]
    },
    {
     "name": "stderr",
     "output_type": "stream",
     "text": [
      " 20%|██        | 20453/99999 [00:11<00:43, 1825.21it/s]"
     ]
    },
    {
     "name": "stdout",
     "output_type": "stream",
     "text": [
      "1.6790279713996934 32.20769364570331\n",
      "1.5857599690035078 30.54208298311453\n",
      "1.58824169565547 31.95674703198307\n"
     ]
    },
    {
     "name": "stderr",
     "output_type": "stream",
     "text": [
      " 21%|██        | 20636/99999 [00:11<00:44, 1774.25it/s]"
     ]
    },
    {
     "name": "stdout",
     "output_type": "stream",
     "text": [
      "1.6907083949268897 31.724602424293717\n"
     ]
    },
    {
     "name": "stderr",
     "output_type": "stream",
     "text": [
      " 21%|██        | 20814/99999 [00:11<00:46, 1713.74it/s]"
     ]
    },
    {
     "name": "stdout",
     "output_type": "stream",
     "text": [
      "1.555655700775902 34.006156980717556\n",
      "1.615720002893221 34.25533407421649\n",
      "1.6528050347051204 36.20047064669129\n"
     ]
    },
    {
     "name": "stderr",
     "output_type": "stream",
     "text": [
      " 21%|██        | 21002/99999 [00:11<00:44, 1759.82it/s]"
     ]
    },
    {
     "name": "stdout",
     "output_type": "stream",
     "text": [
      "1.559980337867984 33.471204941880494\n"
     ]
    },
    {
     "name": "stderr",
     "output_type": "stream",
     "text": [
      " 21%|██        | 21179/99999 [00:11<00:45, 1750.05it/s]"
     ]
    },
    {
     "name": "stdout",
     "output_type": "stream",
     "text": [
      "1.5577289152255687 31.70683680327716\n",
      "1.6432000584558673 32.943989942838684\n",
      "1.6098881948649624 31.660709936536257\n"
     ]
    },
    {
     "name": "stderr",
     "output_type": "stream",
     "text": [
      " 21%|██▏       | 21367/99999 [00:11<00:44, 1784.70it/s]"
     ]
    },
    {
     "name": "stdout",
     "output_type": "stream",
     "text": [
      "1.645169134736295 30.493894250186212\n"
     ]
    },
    {
     "name": "stderr",
     "output_type": "stream",
     "text": [
      " 22%|██▏       | 21740/99999 [00:12<00:44, 1772.23it/s]"
     ]
    },
    {
     "name": "stdout",
     "output_type": "stream",
     "text": [
      "1.6248798584930384 35.28184979190057\n",
      "1.5477558361137118 31.41685681628971\n",
      "1.6268812076547141 31.48661332924649\n",
      "1.7546186617255723 28.186694154998897\n"
     ]
    },
    {
     "name": "stderr",
     "output_type": "stream",
     "text": [
      " 22%|██▏       | 22118/99999 [00:12<00:42, 1831.24it/s]"
     ]
    },
    {
     "name": "stdout",
     "output_type": "stream",
     "text": [
      "1.5552816952696042 33.30012405488287\n",
      "1.7043569019539224 32.68019139715444\n",
      "1.5736562312031606 31.78738913201811\n",
      "1.6449541675454633 31.616304227551048\n"
     ]
    },
    {
     "name": "stderr",
     "output_type": "stream",
     "text": [
      " 22%|██▏       | 22490/99999 [00:12<00:42, 1811.40it/s]"
     ]
    },
    {
     "name": "stdout",
     "output_type": "stream",
     "text": [
      "1.7446693762888368 28.761571927810014\n",
      "1.5534046646851805 33.646714758700135\n",
      "1.719284771647801 30.721692044905176\n",
      "1.6648807278975253 32.147178071943884\n"
     ]
    },
    {
     "name": "stderr",
     "output_type": "stream",
     "text": [
      " 23%|██▎       | 22859/99999 [00:12<00:43, 1771.87it/s]"
     ]
    },
    {
     "name": "stdout",
     "output_type": "stream",
     "text": [
      "1.6269330068728267 32.99123627198429\n",
      "1.55633764294983 31.76330647577243\n",
      "1.7051828024395448 32.596692151025714\n"
     ]
    },
    {
     "name": "stderr",
     "output_type": "stream",
     "text": [
      " 23%|██▎       | 23038/99999 [00:12<00:44, 1714.99it/s]"
     ]
    },
    {
     "name": "stdout",
     "output_type": "stream",
     "text": [
      "1.566980465845428 30.641766465828596\n"
     ]
    },
    {
     "name": "stderr",
     "output_type": "stream",
     "text": [
      " 23%|██▎       | 23211/99999 [00:12<00:45, 1679.71it/s]"
     ]
    },
    {
     "name": "stdout",
     "output_type": "stream",
     "text": [
      "1.669756884146819 30.243003376688094\n",
      "1.5993159253638254 31.15055460510998\n",
      "1.6074049976954954 32.42216484098974\n"
     ]
    },
    {
     "name": "stderr",
     "output_type": "stream",
     "text": [
      " 23%|██▎       | 23402/99999 [00:13<00:44, 1740.73it/s]"
     ]
    },
    {
     "name": "stdout",
     "output_type": "stream",
     "text": [
      "1.6642904399802367 31.350905436428473\n"
     ]
    },
    {
     "name": "stderr",
     "output_type": "stream",
     "text": [
      " 24%|██▎       | 23585/99999 [00:13<00:43, 1764.63it/s]"
     ]
    },
    {
     "name": "stdout",
     "output_type": "stream",
     "text": [
      "1.63615646654969 34.685863037522665\n",
      "1.6567922921486222 31.771223352074568\n",
      "1.6229064297932854 32.54336057596234\n"
     ]
    },
    {
     "name": "stderr",
     "output_type": "stream",
     "text": [
      " 24%|██▍       | 23767/99999 [00:13<00:42, 1779.18it/s]"
     ]
    },
    {
     "name": "stdout",
     "output_type": "stream",
     "text": [
      "1.6407979207201946 31.803767161635236\n"
     ]
    },
    {
     "name": "stderr",
     "output_type": "stream",
     "text": [
      " 24%|██▍       | 24137/99999 [00:13<00:41, 1813.94it/s]"
     ]
    },
    {
     "name": "stdout",
     "output_type": "stream",
     "text": [
      "1.5966009553181388 33.403470544349574\n",
      "1.6222987575435213 32.93890183925553\n",
      "1.597072713523169 29.391214343549365\n",
      "1.7487517943266986 30.668019871158123\n"
     ]
    },
    {
     "name": "stderr",
     "output_type": "stream",
     "text": [
      " 25%|██▍       | 24515/99999 [00:13<00:40, 1850.24it/s]"
     ]
    },
    {
     "name": "stdout",
     "output_type": "stream",
     "text": [
      "1.571736891810832 31.338888774857423\n",
      "1.67994305945782 31.042990532823627\n",
      "1.5773591036268686 31.022350192828064\n",
      "1.6752709660970138 31.932794808212524\n"
     ]
    },
    {
     "name": "stderr",
     "output_type": "stream",
     "text": [
      " 25%|██▍       | 24885/99999 [00:13<00:42, 1780.07it/s]"
     ]
    },
    {
     "name": "stdout",
     "output_type": "stream",
     "text": [
      "1.5968667988879959 31.573990485294352\n",
      "1.6197343204769654 30.594655133435694\n",
      "1.6244409757293938 29.846741392406503\n",
      "1.6204070534368147 31.297381182952165\n"
     ]
    },
    {
     "name": "stderr",
     "output_type": "stream",
     "text": [
      " 25%|██▌       | 25258/99999 [00:14<00:40, 1822.97it/s]"
     ]
    },
    {
     "name": "stdout",
     "output_type": "stream",
     "text": [
      "1.6343335611332583 33.46176118299197\n",
      "1.542621195750197 29.55418638953968\n",
      "1.7089903251363885 32.210757031048956\n"
     ]
    },
    {
     "name": "stderr",
     "output_type": "stream",
     "text": [
      " 25%|██▌       | 25456/99999 [00:14<00:39, 1866.51it/s]"
     ]
    },
    {
     "name": "stdout",
     "output_type": "stream",
     "text": [
      "1.5745113925001368 34.97485842060614\n"
     ]
    },
    {
     "name": "stderr",
     "output_type": "stream",
     "text": [
      " 26%|██▌       | 25644/99999 [00:14<00:39, 1866.23it/s]"
     ]
    },
    {
     "name": "stdout",
     "output_type": "stream",
     "text": [
      "1.6266416019156416 32.32128263510386\n",
      "1.6415257920629023 32.76460462891899\n",
      "1.5659479378511172 31.63359538345741\n"
     ]
    },
    {
     "name": "stderr",
     "output_type": "stream",
     "text": [
      " 26%|██▌       | 25840/99999 [00:14<00:39, 1892.94it/s]"
     ]
    },
    {
     "name": "stdout",
     "output_type": "stream",
     "text": [
      "1.6672307074950221 30.771872811757827\n"
     ]
    },
    {
     "name": "stderr",
     "output_type": "stream",
     "text": [
      " 26%|██▌       | 26030/99999 [00:14<00:39, 1870.67it/s]"
     ]
    },
    {
     "name": "stdout",
     "output_type": "stream",
     "text": [
      "1.5599624406081047 30.50115507670106\n",
      "1.5762230927432754 32.86889182375917\n",
      "1.636375399483521 35.38318393809492\n"
     ]
    },
    {
     "name": "stderr",
     "output_type": "stream",
     "text": [
      " 26%|██▌       | 26230/99999 [00:14<00:38, 1906.51it/s]"
     ]
    },
    {
     "name": "stdout",
     "output_type": "stream",
     "text": [
      "1.5347264974125248 29.38443066574014\n"
     ]
    },
    {
     "name": "stderr",
     "output_type": "stream",
     "text": [
      " 26%|██▋       | 26422/99999 [00:14<00:39, 1885.82it/s]"
     ]
    },
    {
     "name": "stdout",
     "output_type": "stream",
     "text": [
      "1.7199312769360122 30.500211224879326\n",
      "1.5163662150480492 31.628699850327543\n",
      "1.606901581489661 33.75508951002644\n"
     ]
    },
    {
     "name": "stderr",
     "output_type": "stream",
     "text": [
      " 27%|██▋       | 26611/99999 [00:14<00:39, 1881.16it/s]"
     ]
    },
    {
     "name": "stdout",
     "output_type": "stream",
     "text": [
      "1.6071016360778776 33.62783789408486\n"
     ]
    },
    {
     "name": "stderr",
     "output_type": "stream",
     "text": [
      " 27%|██▋       | 26800/99999 [00:14<00:39, 1862.50it/s]"
     ]
    },
    {
     "name": "stdout",
     "output_type": "stream",
     "text": [
      "1.6193335380752174 30.909949002871535\n",
      "1.6327707991013838 33.00699364553263\n",
      "1.5603251533845388 29.086101671074807\n"
     ]
    },
    {
     "name": "stderr",
     "output_type": "stream",
     "text": [
      " 27%|██▋       | 26987/99999 [00:14<00:39, 1842.93it/s]"
     ]
    },
    {
     "name": "stdout",
     "output_type": "stream",
     "text": [
      "1.6942169572650956 32.54394783296868\n"
     ]
    },
    {
     "name": "stderr",
     "output_type": "stream",
     "text": [
      " 27%|██▋       | 27172/99999 [00:15<00:40, 1790.16it/s]"
     ]
    },
    {
     "name": "stdout",
     "output_type": "stream",
     "text": [
      "1.7016188348266952 32.52661008519726\n",
      "1.6238303971869597 32.120268504433966\n",
      "1.6677069502911053 30.922976502325433\n"
     ]
    },
    {
     "name": "stderr",
     "output_type": "stream",
     "text": [
      " 27%|██▋       | 27361/99999 [00:15<00:40, 1815.79it/s]"
     ]
    },
    {
     "name": "stdout",
     "output_type": "stream",
     "text": [
      "1.616162576437275 31.653488924279557\n"
     ]
    },
    {
     "name": "stderr",
     "output_type": "stream",
     "text": [
      " 28%|██▊       | 27724/99999 [00:15<00:40, 1781.77it/s]"
     ]
    },
    {
     "name": "stdout",
     "output_type": "stream",
     "text": [
      "1.6466751105121096 30.575490429321214\n",
      "1.6541374172449206 30.714043903402406\n",
      "1.614496867077623 31.95150199640402\n",
      "1.6057643511059003 31.620284585046196\n"
     ]
    },
    {
     "name": "stderr",
     "output_type": "stream",
     "text": [
      " 28%|██▊       | 28081/99999 [00:15<00:41, 1743.89it/s]"
     ]
    },
    {
     "name": "stdout",
     "output_type": "stream",
     "text": [
      "1.6554352323138075 31.275876158317782\n",
      "1.6034892083418466 32.03307137546667\n",
      "1.69775395759429 30.012526587307477\n",
      "1.568864882308048 32.78749018962034\n"
     ]
    },
    {
     "name": "stderr",
     "output_type": "stream",
     "text": [
      " 28%|██▊       | 28431/99999 [00:15<00:42, 1689.22it/s]"
     ]
    },
    {
     "name": "stdout",
     "output_type": "stream",
     "text": [
      "1.6666282841473914 30.83994513568702\n",
      "1.6200777176269472 32.638987918823666\n",
      "1.5067100916087057 29.01392308685933\n"
     ]
    },
    {
     "name": "stderr",
     "output_type": "stream",
     "text": [
      " 29%|██▊       | 28613/99999 [00:15<00:41, 1724.23it/s]"
     ]
    },
    {
     "name": "stdout",
     "output_type": "stream",
     "text": [
      "1.7815589063150101 29.506782293394146\n"
     ]
    },
    {
     "name": "stderr",
     "output_type": "stream",
     "text": [
      " 29%|██▉       | 28800/99999 [00:16<00:40, 1763.62it/s]"
     ]
    },
    {
     "name": "stdout",
     "output_type": "stream",
     "text": [
      "1.5805181777471071 32.452941227422485\n",
      "1.6305266440343043 30.872719926995735\n",
      "1.61531629541871 33.75756967593425\n"
     ]
    },
    {
     "name": "stderr",
     "output_type": "stream",
     "text": [
      " 29%|██▉       | 28996/99999 [00:16<00:39, 1816.65it/s]"
     ]
    },
    {
     "name": "stdout",
     "output_type": "stream",
     "text": [
      "1.4578077020041196 28.46395088240416\n"
     ]
    },
    {
     "name": "stderr",
     "output_type": "stream",
     "text": [
      " 29%|██▉       | 29384/99999 [00:16<00:37, 1874.32it/s]"
     ]
    },
    {
     "name": "stdout",
     "output_type": "stream",
     "text": [
      "1.7614198574018387 27.77754853529106\n",
      "1.8457983055219729 26.208126935028247\n",
      "1.5734031440753615 31.268598958576387\n",
      "1.4980154555430099 32.15317793148385\n"
     ]
    },
    {
     "name": "stderr",
     "output_type": "stream",
     "text": [
      " 30%|██▉       | 29767/99999 [00:16<00:37, 1883.72it/s]"
     ]
    },
    {
     "name": "stdout",
     "output_type": "stream",
     "text": [
      "1.7860511498569607 27.08993779670385\n",
      "1.5084560851766697 28.975756408960258\n",
      "1.5640440305217953 32.47037620877903\n",
      "1.6621101716842037 31.322004234819957\n"
     ]
    },
    {
     "name": "stderr",
     "output_type": "stream",
     "text": [
      " 30%|███       | 30156/99999 [00:16<00:36, 1909.71it/s]"
     ]
    },
    {
     "name": "stdout",
     "output_type": "stream",
     "text": [
      "1.6185091077214013 29.154318756671397\n",
      "1.599978800217736 30.93038646976357\n",
      "1.6413895920692123 32.44417962264354\n",
      "1.558289042848423 32.35077118894294\n"
     ]
    },
    {
     "name": "stderr",
     "output_type": "stream",
     "text": [
      " 31%|███       | 30546/99999 [00:16<00:36, 1902.22it/s]"
     ]
    },
    {
     "name": "stdout",
     "output_type": "stream",
     "text": [
      "1.7209083723869198 30.29753852873759\n",
      "1.5717766095469083 32.17204512489269\n",
      "1.7144808282662347 30.115126132590625\n",
      "1.6214576851954356 30.41558703279909\n"
     ]
    },
    {
     "name": "stderr",
     "output_type": "stream",
     "text": [
      " 31%|███       | 30924/99999 [00:17<00:37, 1829.84it/s]"
     ]
    },
    {
     "name": "stdout",
     "output_type": "stream",
     "text": [
      "1.6908402765937975 31.79719304476819\n",
      "1.5694352194123908 30.495136948198116\n",
      "1.566375864658669 31.667209182528104\n",
      "1.683237970005154 29.07952514345299\n"
     ]
    },
    {
     "name": "stderr",
     "output_type": "stream",
     "text": [
      " 31%|███▏      | 31285/99999 [00:17<00:40, 1701.36it/s]"
     ]
    },
    {
     "name": "stdout",
     "output_type": "stream",
     "text": [
      "1.5914182181543108 31.712511070320613\n",
      "1.5516838214584312 31.63171035946759\n",
      "1.6544347250648563 34.12773628666279\n",
      "1.6379391787072464 32.91633575926116\n"
     ]
    },
    {
     "name": "stderr",
     "output_type": "stream",
     "text": [
      " 32%|███▏      | 31630/99999 [00:17<00:41, 1657.58it/s]"
     ]
    },
    {
     "name": "stdout",
     "output_type": "stream",
     "text": [
      "1.6255027348988922 32.002710972226474\n",
      "1.6030010359002513 34.306179730165134\n",
      "1.7425606477288282 31.011313241679325\n"
     ]
    },
    {
     "name": "stderr",
     "output_type": "stream",
     "text": [
      " 32%|███▏      | 31819/99999 [00:17<00:39, 1719.76it/s]"
     ]
    },
    {
     "name": "stdout",
     "output_type": "stream",
     "text": [
      "1.4928126623635412 28.626998134609018\n"
     ]
    },
    {
     "name": "stderr",
     "output_type": "stream",
     "text": [
      " 32%|███▏      | 31993/99999 [00:17<00:39, 1713.33it/s]"
     ]
    },
    {
     "name": "stdout",
     "output_type": "stream",
     "text": [
      "1.7842954026321745 28.872928095985042\n",
      "1.4960308336357258 28.729624501048164\n",
      "1.7191416331480553 29.283324090312615\n"
     ]
    },
    {
     "name": "stderr",
     "output_type": "stream",
     "text": [
      " 32%|███▏      | 32167/99999 [00:17<00:39, 1718.84it/s]"
     ]
    },
    {
     "name": "stdout",
     "output_type": "stream",
     "text": [
      "1.6588699534263058 30.21366582272031\n"
     ]
    },
    {
     "name": "stderr",
     "output_type": "stream",
     "text": [
      " 33%|███▎      | 32519/99999 [00:18<00:39, 1707.83it/s]"
     ]
    },
    {
     "name": "stdout",
     "output_type": "stream",
     "text": [
      "1.5901352625443488 30.753197727759215\n",
      "1.5302079988438966 28.415824177855274\n",
      "1.598293194260556 33.228113613353614\n",
      "1.6100966178580833 30.7319053332124\n"
     ]
    },
    {
     "name": "stderr",
     "output_type": "stream",
     "text": [
      " 33%|███▎      | 32877/99999 [00:18<00:38, 1749.29it/s]"
     ]
    },
    {
     "name": "stdout",
     "output_type": "stream",
     "text": [
      "1.6426471202295243 33.539479860315794\n",
      "1.5870281147534773 32.598399438871546\n",
      "1.7021639707855634 32.38927035606601\n"
     ]
    },
    {
     "name": "stderr",
     "output_type": "stream",
     "text": [
      " 33%|███▎      | 33053/99999 [00:18<00:38, 1740.82it/s]"
     ]
    },
    {
     "name": "stdout",
     "output_type": "stream",
     "text": [
      "1.6381665741601128 33.384220729597914\n"
     ]
    },
    {
     "name": "stderr",
     "output_type": "stream",
     "text": [
      " 33%|███▎      | 33228/99999 [00:18<00:39, 1688.78it/s]"
     ]
    },
    {
     "name": "stdout",
     "output_type": "stream",
     "text": [
      "1.6332039821650441 31.102324489171295\n",
      "1.6340413887450673 30.490808296631144\n",
      "1.5911669224218246 33.890799393396144\n"
     ]
    },
    {
     "name": "stderr",
     "output_type": "stream",
     "text": [
      " 33%|███▎      | 33398/99999 [00:18<00:39, 1668.16it/s]"
     ]
    },
    {
     "name": "stdout",
     "output_type": "stream",
     "text": [
      "1.6576038583103874 31.24769931257387\n"
     ]
    },
    {
     "name": "stderr",
     "output_type": "stream",
     "text": [
      " 34%|███▍      | 33756/99999 [00:18<00:38, 1732.32it/s]"
     ]
    },
    {
     "name": "stdout",
     "output_type": "stream",
     "text": [
      "1.5905833508218366 32.27083571991557\n",
      "1.3929541586659038 29.789208000638702\n",
      "1.651477739743351 30.78443137792312\n",
      "1.6844172391886 30.173356942772415\n"
     ]
    },
    {
     "name": "stderr",
     "output_type": "stream",
     "text": [
      " 34%|███▍      | 34114/99999 [00:19<00:37, 1761.25it/s]"
     ]
    },
    {
     "name": "stdout",
     "output_type": "stream",
     "text": [
      "1.4670533004928321 27.52503635462258\n",
      "1.7946504923765192 28.3981254523044\n",
      "1.6260596312724944 33.75588822613402\n",
      "1.5955221385933176 32.61358154083862\n"
     ]
    },
    {
     "name": "stderr",
     "output_type": "stream",
     "text": [
      " 34%|███▍      | 34475/99999 [00:19<00:38, 1699.76it/s]"
     ]
    },
    {
     "name": "stdout",
     "output_type": "stream",
     "text": [
      "1.5876426532072663 31.48349957964146\n",
      "1.6100137896225972 30.066433753193543\n",
      "1.679228948047797 32.41163154221948\n"
     ]
    },
    {
     "name": "stderr",
     "output_type": "stream",
     "text": [
      " 35%|███▍      | 34647/99999 [00:19<00:38, 1676.88it/s]"
     ]
    },
    {
     "name": "stdout",
     "output_type": "stream",
     "text": [
      "1.6189023092579762 31.54033425296286\n"
     ]
    },
    {
     "name": "stderr",
     "output_type": "stream",
     "text": [
      " 35%|███▍      | 34827/99999 [00:19<00:38, 1710.16it/s]"
     ]
    },
    {
     "name": "stdout",
     "output_type": "stream",
     "text": [
      "1.714930428414426 31.865746203959826\n",
      "1.6308051224882083 31.556515402238016\n",
      "1.685494573791088 32.42713443457457\n"
     ]
    },
    {
     "name": "stderr",
     "output_type": "stream",
     "text": [
      " 35%|███▌      | 35000/99999 [00:19<00:38, 1672.50it/s]"
     ]
    },
    {
     "name": "stdout",
     "output_type": "stream",
     "text": [
      "1.539184123905578 28.01050580252196\n"
     ]
    },
    {
     "name": "stderr",
     "output_type": "stream",
     "text": [
      " 35%|███▌      | 35184/99999 [00:19<00:37, 1717.58it/s]"
     ]
    },
    {
     "name": "stdout",
     "output_type": "stream",
     "text": [
      "1.6691638609379855 30.736648640249353\n",
      "1.538395415881089 31.987063333735552\n",
      "1.6491804348476766 32.45497158692601\n"
     ]
    },
    {
     "name": "stderr",
     "output_type": "stream",
     "text": [
      " 35%|███▌      | 35371/99999 [00:19<00:36, 1756.67it/s]"
     ]
    },
    {
     "name": "stdout",
     "output_type": "stream",
     "text": [
      "1.6106011792609543 34.63781819421396\n"
     ]
    },
    {
     "name": "stderr",
     "output_type": "stream",
     "text": [
      " 36%|███▌      | 35729/99999 [00:19<00:36, 1757.25it/s]"
     ]
    },
    {
     "name": "stdout",
     "output_type": "stream",
     "text": [
      "1.64363021018122 31.6945337703413\n",
      "1.599645791091295 30.366780213590715\n",
      "1.7291526885545516 33.5096334349675\n",
      "1.6013638267384518 33.19773674289466\n"
     ]
    },
    {
     "name": "stderr",
     "output_type": "stream",
     "text": [
      " 36%|███▌      | 36097/99999 [00:20<00:35, 1777.86it/s]"
     ]
    },
    {
     "name": "stdout",
     "output_type": "stream",
     "text": [
      "1.6225126784094788 32.86984086972512\n",
      "1.6385163686798243 33.04022653389201\n",
      "1.6714996896788799 32.59457679021049\n",
      "1.6501943540035129 34.52957866161647\n"
     ]
    },
    {
     "name": "stderr",
     "output_type": "stream",
     "text": [
      " 36%|███▋      | 36485/99999 [00:20<00:34, 1852.55it/s]"
     ]
    },
    {
     "name": "stdout",
     "output_type": "stream",
     "text": [
      "1.5770473841700134 29.714582504288256\n",
      "1.5255343965769677 32.18982189551237\n",
      "1.6411076462380745 31.269826750659636\n"
     ]
    },
    {
     "name": "stderr",
     "output_type": "stream",
     "text": [
      " 37%|███▋      | 36685/99999 [00:20<00:33, 1892.03it/s]"
     ]
    },
    {
     "name": "stdout",
     "output_type": "stream",
     "text": [
      "1.657808721236582 32.95214256977188\n"
     ]
    },
    {
     "name": "stderr",
     "output_type": "stream",
     "text": [
      " 37%|███▋      | 36883/99999 [00:20<00:32, 1915.24it/s]"
     ]
    },
    {
     "name": "stdout",
     "output_type": "stream",
     "text": [
      "1.5836840630389417 33.1091046782799\n",
      "1.710633045926899 29.57514439623874\n",
      "1.5517911736470764 32.1628319863086\n"
     ]
    },
    {
     "name": "stderr",
     "output_type": "stream",
     "text": [
      " 37%|███▋      | 37081/99999 [00:20<00:32, 1931.12it/s]"
     ]
    },
    {
     "name": "stdout",
     "output_type": "stream",
     "text": [
      "1.7002386084819 30.69511470416724\n"
     ]
    },
    {
     "name": "stderr",
     "output_type": "stream",
     "text": [
      " 37%|███▋      | 37275/99999 [00:20<00:32, 1904.85it/s]"
     ]
    },
    {
     "name": "stdout",
     "output_type": "stream",
     "text": [
      "1.5876733062870956 32.37126694443505\n",
      "1.6597553860160532 32.38494717521051\n",
      "1.5740868986950824 29.86581845320054\n"
     ]
    },
    {
     "name": "stderr",
     "output_type": "stream",
     "text": [
      " 37%|███▋      | 37466/99999 [00:20<00:33, 1865.31it/s]"
     ]
    },
    {
     "name": "stdout",
     "output_type": "stream",
     "text": [
      "1.6589888826087922 32.427609107991756\n"
     ]
    },
    {
     "name": "stderr",
     "output_type": "stream",
     "text": [
      " 38%|███▊      | 37653/99999 [00:21<00:34, 1802.20it/s]"
     ]
    },
    {
     "name": "stdout",
     "output_type": "stream",
     "text": [
      "1.6219214276252452 31.38526673447588\n",
      "1.6163589079794556 30.968298523955525\n",
      "1.544319572162165 31.191103196284722\n"
     ]
    },
    {
     "name": "stderr",
     "output_type": "stream",
     "text": [
      " 38%|███▊      | 37834/99999 [00:21<00:35, 1775.84it/s]"
     ]
    },
    {
     "name": "stdout",
     "output_type": "stream",
     "text": [
      "1.5895272893335586 31.28929443325493\n"
     ]
    },
    {
     "name": "stderr",
     "output_type": "stream",
     "text": [
      " 38%|███▊      | 38024/99999 [00:21<00:34, 1809.72it/s]"
     ]
    },
    {
     "name": "stdout",
     "output_type": "stream",
     "text": [
      "1.6844190684788096 31.650736912193192\n",
      "1.5605963961689124 31.686216043748907\n",
      "1.7038642563453608 31.51062590293708\n"
     ]
    },
    {
     "name": "stderr",
     "output_type": "stream",
     "text": [
      " 38%|███▊      | 38206/99999 [00:21<00:35, 1754.81it/s]"
     ]
    },
    {
     "name": "stdout",
     "output_type": "stream",
     "text": [
      "1.5502359226027598 30.31258912403936\n"
     ]
    },
    {
     "name": "stderr",
     "output_type": "stream",
     "text": [
      " 38%|███▊      | 38398/99999 [00:21<00:34, 1800.25it/s]"
     ]
    },
    {
     "name": "stdout",
     "output_type": "stream",
     "text": [
      "1.6789668022879811 30.747104581142473\n",
      "1.6144400568465482 30.66910152078158\n",
      "1.5384590404104066 31.775138972610712\n"
     ]
    },
    {
     "name": "stderr",
     "output_type": "stream",
     "text": [
      " 39%|███▊      | 38595/99999 [00:21<00:33, 1847.54it/s]"
     ]
    },
    {
     "name": "stdout",
     "output_type": "stream",
     "text": [
      "1.659095650506746 34.64400901116123\n"
     ]
    },
    {
     "name": "stderr",
     "output_type": "stream",
     "text": [
      " 39%|███▉      | 38979/99999 [00:21<00:32, 1881.92it/s]"
     ]
    },
    {
     "name": "stdout",
     "output_type": "stream",
     "text": [
      "1.5911474789760895 30.55549386479929\n",
      "1.5941785442957441 32.95461893787286\n",
      "1.6240467078945606 30.899710072687963\n",
      "1.6147486771735708 33.815518300000655\n"
     ]
    },
    {
     "name": "stderr",
     "output_type": "stream",
     "text": [
      " 39%|███▉      | 39168/99999 [00:21<00:35, 1732.48it/s]"
     ]
    },
    {
     "name": "stdout",
     "output_type": "stream",
     "text": [
      "1.6594856574244592 32.33739777844538\n",
      "1.4720044768485634 30.142709844161047\n",
      "1.6603001542542908 32.39868384598776\n"
     ]
    },
    {
     "name": "stderr",
     "output_type": "stream",
     "text": [
      " 39%|███▉      | 39350/99999 [00:21<00:34, 1756.25it/s]"
     ]
    },
    {
     "name": "stdout",
     "output_type": "stream",
     "text": [
      "1.5804031460950898 29.66749090069262\n"
     ]
    },
    {
     "name": "stderr",
     "output_type": "stream",
     "text": [
      " 40%|███▉      | 39725/99999 [00:22<00:33, 1807.52it/s]"
     ]
    },
    {
     "name": "stdout",
     "output_type": "stream",
     "text": [
      "1.6210575694808593 34.21893109475053\n",
      "1.6539081382490806 32.7013537412206\n",
      "1.6350509662384516 33.37763750273788\n",
      "1.633514397569887 30.35755778240065\n"
     ]
    },
    {
     "name": "stderr",
     "output_type": "stream",
     "text": [
      " 40%|████      | 40106/99999 [00:22<00:32, 1828.37it/s]"
     ]
    },
    {
     "name": "stdout",
     "output_type": "stream",
     "text": [
      "1.6648820069339507 32.817290230934724\n",
      "1.5996119550723988 30.626522257658404\n",
      "1.5474581936049205 31.058603182773012\n",
      "1.677620516721823 31.03985637595377\n"
     ]
    },
    {
     "name": "stderr",
     "output_type": "stream",
     "text": [
      " 40%|████      | 40488/99999 [00:22<00:31, 1861.32it/s]"
     ]
    },
    {
     "name": "stdout",
     "output_type": "stream",
     "text": [
      "1.6116659803088182 32.17828776716247\n",
      "1.5822331280062958 33.337325226085326\n",
      "1.5983298779403898 32.31026594750622\n",
      "1.5534931702252057 30.458966621362645\n"
     ]
    },
    {
     "name": "stderr",
     "output_type": "stream",
     "text": [
      " 41%|████      | 40872/99999 [00:22<00:31, 1883.81it/s]"
     ]
    },
    {
     "name": "stdout",
     "output_type": "stream",
     "text": [
      "1.7154181334365304 31.178981098022874\n",
      "1.6529755159231476 33.59805201858514\n",
      "1.6380377517160045 32.2627518187193\n",
      "1.6841509953976948 33.13167036908223\n"
     ]
    },
    {
     "name": "stderr",
     "output_type": "stream",
     "text": [
      " 41%|████      | 41242/99999 [00:22<00:34, 1712.05it/s]"
     ]
    },
    {
     "name": "stdout",
     "output_type": "stream",
     "text": [
      "1.6724834999495979 32.12795927416446\n",
      "1.541806216846737 31.791221743263\n",
      "1.632103019849406 31.660080451569037\n"
     ]
    },
    {
     "name": "stderr",
     "output_type": "stream",
     "text": [
      " 41%|████▏     | 41434/99999 [00:23<00:33, 1769.07it/s]"
     ]
    },
    {
     "name": "stdout",
     "output_type": "stream",
     "text": [
      "1.5989022037752956 31.486758647822207\n"
     ]
    },
    {
     "name": "stderr",
     "output_type": "stream",
     "text": [
      " 42%|████▏     | 41631/99999 [00:23<00:32, 1823.18it/s]"
     ]
    },
    {
     "name": "stdout",
     "output_type": "stream",
     "text": [
      "1.6742965056410448 29.79445306934711\n",
      "1.4915996320980722 31.276458755107672\n",
      "1.7087633067131798 31.212328305458204\n"
     ]
    },
    {
     "name": "stderr",
     "output_type": "stream",
     "text": [
      " 42%|████▏     | 41830/99999 [00:23<00:31, 1867.83it/s]"
     ]
    },
    {
     "name": "stdout",
     "output_type": "stream",
     "text": [
      "1.5912131709994621 29.839103621460502\n"
     ]
    },
    {
     "name": "stderr",
     "output_type": "stream",
     "text": [
      " 42%|████▏     | 42027/99999 [00:23<00:30, 1896.50it/s]"
     ]
    },
    {
     "name": "stdout",
     "output_type": "stream",
     "text": [
      "1.6625082730324205 31.215987265103198\n",
      "1.631449052817243 31.317416435674765\n",
      "1.614847516425145 33.050965577670965\n"
     ]
    },
    {
     "name": "stderr",
     "output_type": "stream",
     "text": [
      " 42%|████▏     | 42220/99999 [00:23<00:30, 1904.35it/s]"
     ]
    },
    {
     "name": "stdout",
     "output_type": "stream",
     "text": [
      "1.6947325534592768 30.496702561818545\n"
     ]
    },
    {
     "name": "stderr",
     "output_type": "stream",
     "text": [
      " 42%|████▏     | 42412/99999 [00:23<00:31, 1850.26it/s]"
     ]
    },
    {
     "name": "stdout",
     "output_type": "stream",
     "text": [
      "1.6028116073674339 30.661727000607637\n",
      "1.577113968946612 31.771516157570026\n",
      "1.7553845803885273 30.562015589219623\n"
     ]
    },
    {
     "name": "stderr",
     "output_type": "stream",
     "text": [
      " 43%|████▎     | 42606/99999 [00:23<00:30, 1874.53it/s]"
     ]
    },
    {
     "name": "stdout",
     "output_type": "stream",
     "text": [
      "1.664456017686043 31.745551361340766\n"
     ]
    },
    {
     "name": "stderr",
     "output_type": "stream",
     "text": [
      " 43%|████▎     | 42795/99999 [00:23<00:30, 1875.88it/s]"
     ]
    },
    {
     "name": "stdout",
     "output_type": "stream",
     "text": [
      "1.5668661719841017 32.659230339221246\n",
      "1.710440741602681 30.51356417546489\n",
      "1.5766702389665712 30.417925134451714\n"
     ]
    },
    {
     "name": "stderr",
     "output_type": "stream",
     "text": [
      " 43%|████▎     | 42984/99999 [00:23<00:30, 1870.44it/s]"
     ]
    },
    {
     "name": "stdout",
     "output_type": "stream",
     "text": [
      "1.6447137676486512 32.88475993567623\n"
     ]
    },
    {
     "name": "stderr",
     "output_type": "stream",
     "text": [
      " 43%|████▎     | 43372/99999 [00:24<00:29, 1900.40it/s]"
     ]
    },
    {
     "name": "stdout",
     "output_type": "stream",
     "text": [
      "1.6352576482791663 31.28970116601289\n",
      "1.627546286564743 31.37182106391803\n",
      "1.569971964237929 32.20274795556875\n",
      "1.6187502046566518 31.07423855116351\n"
     ]
    },
    {
     "name": "stderr",
     "output_type": "stream",
     "text": [
      " 44%|████▍     | 43753/99999 [00:24<00:29, 1891.58it/s]"
     ]
    },
    {
     "name": "stdout",
     "output_type": "stream",
     "text": [
      "1.6025394569078164 32.47677899632667\n",
      "1.5622425498415597 29.856058941953076\n",
      "1.653358727959564 33.31369839356219\n",
      "1.6416041077446983 31.385950366287066\n"
     ]
    },
    {
     "name": "stderr",
     "output_type": "stream",
     "text": [
      " 44%|████▍     | 43943/99999 [00:24<00:31, 1752.79it/s]"
     ]
    },
    {
     "name": "stdout",
     "output_type": "stream",
     "text": [
      "1.5890187733722079 31.41403677403055\n",
      "1.6668745946702617 33.329192172861966\n",
      "1.6600073880208392 31.535619229798222\n"
     ]
    },
    {
     "name": "stderr",
     "output_type": "stream",
     "text": [
      " 44%|████▍     | 44121/99999 [00:24<00:32, 1706.04it/s]"
     ]
    },
    {
     "name": "stdout",
     "output_type": "stream",
     "text": [
      "1.5995050116784315 32.04007563997907\n"
     ]
    },
    {
     "name": "stderr",
     "output_type": "stream",
     "text": [
      " 44%|████▍     | 44485/99999 [00:24<00:32, 1722.67it/s]"
     ]
    },
    {
     "name": "stdout",
     "output_type": "stream",
     "text": [
      "1.607927022303144 34.31644481005597\n",
      "1.5978407494350204 33.73451774530429\n",
      "1.7765502057585036 29.807341512874657\n"
     ]
    },
    {
     "name": "stderr",
     "output_type": "stream",
     "text": [
      " 45%|████▍     | 44674/99999 [00:24<00:31, 1768.32it/s]"
     ]
    },
    {
     "name": "stdout",
     "output_type": "stream",
     "text": [
      "1.5150947571117201 33.872284271606176\n"
     ]
    },
    {
     "name": "stderr",
     "output_type": "stream",
     "text": [
      " 45%|████▍     | 44864/99999 [00:24<00:30, 1805.63it/s]"
     ]
    },
    {
     "name": "stdout",
     "output_type": "stream",
     "text": [
      "1.7561156801222968 28.40463887672844\n",
      "1.6366434694691276 32.57622257234414\n",
      "1.6454634748228594 30.216036537148764\n"
     ]
    },
    {
     "name": "stderr",
     "output_type": "stream",
     "text": [
      " 45%|████▌     | 45051/99999 [00:25<00:30, 1822.27it/s]"
     ]
    },
    {
     "name": "stdout",
     "output_type": "stream",
     "text": [
      "1.7089818086578072 28.54557562846128\n"
     ]
    },
    {
     "name": "stderr",
     "output_type": "stream",
     "text": [
      " 45%|████▌     | 45235/99999 [00:25<00:30, 1787.75it/s]"
     ]
    },
    {
     "name": "stdout",
     "output_type": "stream",
     "text": [
      "1.4541842305132917 27.36772052836918\n",
      "1.680520728008416 32.363707367894605\n",
      "1.664772907047158 33.28480008860237\n"
     ]
    },
    {
     "name": "stderr",
     "output_type": "stream",
     "text": [
      " 45%|████▌     | 45419/99999 [00:25<00:30, 1801.95it/s]"
     ]
    },
    {
     "name": "stdout",
     "output_type": "stream",
     "text": [
      "1.533476496573515 29.34710348302358\n"
     ]
    },
    {
     "name": "stderr",
     "output_type": "stream",
     "text": [
      " 46%|████▌     | 45600/99999 [00:25<00:30, 1777.37it/s]"
     ]
    },
    {
     "name": "stdout",
     "output_type": "stream",
     "text": [
      "1.691818389937997 29.676374173927012\n",
      "1.588364582442991 31.95999296704996\n",
      "1.6133377312462132 30.870963071951007\n"
     ]
    },
    {
     "name": "stderr",
     "output_type": "stream",
     "text": [
      " 46%|████▌     | 45779/99999 [00:25<00:30, 1763.93it/s]"
     ]
    },
    {
     "name": "stdout",
     "output_type": "stream",
     "text": [
      "1.6045137313515718 34.06667694589899\n"
     ]
    },
    {
     "name": "stderr",
     "output_type": "stream",
     "text": [
      " 46%|████▌     | 46133/99999 [00:25<00:30, 1743.58it/s]"
     ]
    },
    {
     "name": "stdout",
     "output_type": "stream",
     "text": [
      "1.6493521187162363 30.542646334464678\n",
      "1.5474714776471694 33.57471266262712\n",
      "1.650918249864885 29.822650454396076\n",
      "1.6420534858631648 32.19926902911638\n"
     ]
    },
    {
     "name": "stderr",
     "output_type": "stream",
     "text": [
      " 46%|████▋     | 46482/99999 [00:25<00:30, 1730.54it/s]"
     ]
    },
    {
     "name": "stdout",
     "output_type": "stream",
     "text": [
      "1.5798752459816718 33.50241078843598\n",
      "1.6839782378052381 32.708723598330735\n",
      "1.6208727734239767 30.34453748291228\n",
      "1.5751534177809798 32.69526160637122\n"
     ]
    },
    {
     "name": "stderr",
     "output_type": "stream",
     "text": [
      " 47%|████▋     | 46832/99999 [00:26<00:31, 1706.17it/s]"
     ]
    },
    {
     "name": "stdout",
     "output_type": "stream",
     "text": [
      "1.7164126703117883 29.892604602206724\n",
      "1.5862777207135152 33.66878785759535\n",
      "1.617252241082057 33.561936284571466\n"
     ]
    },
    {
     "name": "stderr",
     "output_type": "stream",
     "text": [
      " 47%|████▋     | 47012/99999 [00:26<00:30, 1732.90it/s]"
     ]
    },
    {
     "name": "stdout",
     "output_type": "stream",
     "text": [
      "1.6194605042854167 32.83043180209663\n"
     ]
    },
    {
     "name": "stderr",
     "output_type": "stream",
     "text": [
      " 47%|████▋     | 47190/99999 [00:26<00:30, 1745.80it/s]"
     ]
    },
    {
     "name": "stdout",
     "output_type": "stream",
     "text": [
      "1.621750225312685 32.92205028567003\n",
      "1.5391620528245291 29.731008318209717\n",
      "1.6143612821579367 33.70159154263357\n"
     ]
    },
    {
     "name": "stderr",
     "output_type": "stream",
     "text": [
      " 47%|████▋     | 47370/99999 [00:26<00:29, 1759.39it/s]"
     ]
    },
    {
     "name": "stdout",
     "output_type": "stream",
     "text": [
      "1.6452109083249706 30.98935213639595\n"
     ]
    },
    {
     "name": "stderr",
     "output_type": "stream",
     "text": [
      " 48%|████▊     | 47750/99999 [00:26<00:28, 1829.03it/s]"
     ]
    },
    {
     "name": "stdout",
     "output_type": "stream",
     "text": [
      "1.5882460979032367 30.86338280243795\n",
      "1.5994320200344114 31.333144242632358\n",
      "1.6321105441088353 33.58605818778183\n",
      "1.660720656883433 32.56030983105957\n"
     ]
    },
    {
     "name": "stderr",
     "output_type": "stream",
     "text": [
      " 48%|████▊     | 48126/99999 [00:26<00:28, 1839.64it/s]"
     ]
    },
    {
     "name": "stdout",
     "output_type": "stream",
     "text": [
      "1.5647677145844012 29.443743716367145\n",
      "1.6252774498909761 31.536850465824735\n",
      "1.6518741670201236 33.49804693972861\n",
      "1.6887372158063472 33.018180122398824\n"
     ]
    },
    {
     "name": "stderr",
     "output_type": "stream",
     "text": [
      " 48%|████▊     | 48493/99999 [00:27<00:29, 1767.04it/s]"
     ]
    },
    {
     "name": "stdout",
     "output_type": "stream",
     "text": [
      "1.597649751793296 28.785843075991313\n",
      "1.6082052818935408 30.019662153062782\n",
      "1.6389899688962768 29.230479830830777\n",
      "1.650717030684069 32.14337027551992\n"
     ]
    },
    {
     "name": "stderr",
     "output_type": "stream",
     "text": [
      " 49%|████▉     | 48862/99999 [00:27<00:28, 1802.55it/s]"
     ]
    },
    {
     "name": "stdout",
     "output_type": "stream",
     "text": [
      "1.6699475662540157 35.41738194107283\n",
      "1.5643046855593148 31.799659378965284\n",
      "1.6747405167867009 30.70597715961538\n"
     ]
    },
    {
     "name": "stderr",
     "output_type": "stream",
     "text": [
      " 49%|████▉     | 49050/99999 [00:27<00:27, 1823.36it/s]"
     ]
    },
    {
     "name": "stdout",
     "output_type": "stream",
     "text": [
      "1.5506385697122 34.223285437521724\n"
     ]
    },
    {
     "name": "stderr",
     "output_type": "stream",
     "text": [
      " 49%|████▉     | 49233/99999 [00:27<00:28, 1795.30it/s]"
     ]
    },
    {
     "name": "stdout",
     "output_type": "stream",
     "text": [
      "1.5500765010194992 31.8387410074902\n",
      "1.732963505335593 29.541242891501504\n",
      "1.5610979448250402 32.42535097410093\n"
     ]
    },
    {
     "name": "stderr",
     "output_type": "stream",
     "text": [
      " 49%|████▉     | 49420/99999 [00:27<00:27, 1816.51it/s]"
     ]
    },
    {
     "name": "stdout",
     "output_type": "stream",
     "text": [
      "1.8826072937806724 23.341873691620386\n"
     ]
    },
    {
     "name": "stderr",
     "output_type": "stream",
     "text": [
      " 50%|████▉     | 49602/99999 [00:27<00:27, 1803.21it/s]"
     ]
    },
    {
     "name": "stdout",
     "output_type": "stream",
     "text": [
      "1.4824588676441302 30.240309202915387\n",
      "1.6188581273586515 32.30380469152405\n",
      "1.7301596978067444 33.15497311522777\n"
     ]
    },
    {
     "name": "stderr",
     "output_type": "stream",
     "text": [
      " 50%|████▉     | 49797/99999 [00:27<00:27, 1844.78it/s]"
     ]
    },
    {
     "name": "stdout",
     "output_type": "stream",
     "text": [
      "1.4827139755492367 29.12644283436868\n"
     ]
    },
    {
     "name": "stderr",
     "output_type": "stream",
     "text": [
      " 50%|█████     | 50171/99999 [00:27<00:26, 1855.39it/s]"
     ]
    },
    {
     "name": "stdout",
     "output_type": "stream",
     "text": [
      "1.780748709714697 28.174383658749385\n",
      "1.473333378742112 29.769918606033144\n",
      "1.7522915653213789 31.140821930421737\n",
      "1.5204392268831644 30.742176367474038\n"
     ]
    },
    {
     "name": "stderr",
     "output_type": "stream",
     "text": [
      " 51%|█████     | 50546/99999 [00:28<00:27, 1818.81it/s]"
     ]
    },
    {
     "name": "stdout",
     "output_type": "stream",
     "text": [
      "1.6675026993055775 30.088949741460528\n",
      "1.6142507537356647 34.21265791111458\n",
      "1.6218483329590347 31.267768340107505\n",
      "1.626197457104099 33.42397301851931\n"
     ]
    },
    {
     "name": "stderr",
     "output_type": "stream",
     "text": [
      " 51%|█████     | 50933/99999 [00:28<00:26, 1875.21it/s]"
     ]
    },
    {
     "name": "stdout",
     "output_type": "stream",
     "text": [
      "1.6650261514522904 30.35516618255897\n",
      "1.5821229467794007 30.78627721049098\n",
      "1.5108394009552728 32.044025738783446\n",
      "1.708538257203682 32.12984009757473\n"
     ]
    },
    {
     "name": "stderr",
     "output_type": "stream",
     "text": [
      " 51%|█████▏    | 51309/99999 [00:28<00:26, 1869.14it/s]"
     ]
    },
    {
     "name": "stdout",
     "output_type": "stream",
     "text": [
      "1.6570526393851568 30.402267412105914\n",
      "1.6664954095766813 33.44080969323513\n",
      "1.5771080567903855 30.37121842729375\n",
      "1.6490055565125448 32.226023178672506\n"
     ]
    },
    {
     "name": "stderr",
     "output_type": "stream",
     "text": [
      " 52%|█████▏    | 51687/99999 [00:28<00:25, 1869.95it/s]"
     ]
    },
    {
     "name": "stdout",
     "output_type": "stream",
     "text": [
      "1.6520701213567524 30.810909987996176\n",
      "1.5759556493401032 33.98675386095422\n",
      "1.6818361223629112 30.254445780228416\n",
      "1.5828086257211533 34.05727981675867\n"
     ]
    },
    {
     "name": "stderr",
     "output_type": "stream",
     "text": [
      " 52%|█████▏    | 52059/99999 [00:28<00:26, 1832.60it/s]"
     ]
    },
    {
     "name": "stdout",
     "output_type": "stream",
     "text": [
      "1.6521400355140798 29.495805855792145\n",
      "1.5468214012634054 30.617459203319875\n",
      "1.7156868807704677 33.315502626397134\n"
     ]
    },
    {
     "name": "stderr",
     "output_type": "stream",
     "text": [
      " 52%|█████▏    | 52252/99999 [00:29<00:25, 1860.31it/s]"
     ]
    },
    {
     "name": "stdout",
     "output_type": "stream",
     "text": [
      "1.6218801974094792 32.23820591401358\n"
     ]
    },
    {
     "name": "stderr",
     "output_type": "stream",
     "text": [
      " 52%|█████▏    | 52439/99999 [00:29<00:25, 1861.49it/s]"
     ]
    },
    {
     "name": "stdout",
     "output_type": "stream",
     "text": [
      "1.6571641005352935 30.974252533068615\n",
      "1.5648477379323236 32.23260778716617\n",
      "1.6685123858621898 31.06114850724601\n"
     ]
    },
    {
     "name": "stderr",
     "output_type": "stream",
     "text": [
      " 53%|█████▎    | 52628/99999 [00:29<00:25, 1869.69it/s]"
     ]
    },
    {
     "name": "stdout",
     "output_type": "stream",
     "text": [
      "1.579701211131343 31.003559743303548\n"
     ]
    },
    {
     "name": "stderr",
     "output_type": "stream",
     "text": [
      " 53%|█████▎    | 52816/99999 [00:29<00:25, 1848.66it/s]"
     ]
    },
    {
     "name": "stdout",
     "output_type": "stream",
     "text": [
      "1.6342987792169672 32.24308390512155\n",
      "1.6148246081241522 30.892980552204463\n",
      "1.6533536590711313 32.96700769724495\n"
     ]
    },
    {
     "name": "stderr",
     "output_type": "stream",
     "text": [
      " 53%|█████▎    | 53002/99999 [00:29<00:25, 1828.00it/s]"
     ]
    },
    {
     "name": "stdout",
     "output_type": "stream",
     "text": [
      "1.599708147350361 31.876136107399706\n"
     ]
    },
    {
     "name": "stderr",
     "output_type": "stream",
     "text": [
      " 53%|█████▎    | 53186/99999 [00:29<00:25, 1830.36it/s]"
     ]
    },
    {
     "name": "stdout",
     "output_type": "stream",
     "text": [
      "1.6704203717963888 32.69792678456566\n",
      "1.6662540096678038 31.815053329067375\n",
      "1.5639226266051791 31.060836104652438\n"
     ]
    },
    {
     "name": "stderr",
     "output_type": "stream",
     "text": [
      " 53%|█████▎    | 53370/99999 [00:29<00:26, 1760.65it/s]"
     ]
    },
    {
     "name": "stdout",
     "output_type": "stream",
     "text": [
      "1.603452766240078 30.319197190776222\n"
     ]
    },
    {
     "name": "stderr",
     "output_type": "stream",
     "text": [
      " 54%|█████▍    | 53750/99999 [00:29<00:25, 1829.98it/s]"
     ]
    },
    {
     "name": "stdout",
     "output_type": "stream",
     "text": [
      "1.673958420058279 29.796231693738775\n",
      "1.5528300440321046 30.648776968980425\n",
      "1.5736088847405045 30.091381581554245\n",
      "1.6744790168753718 29.847481370226927\n"
     ]
    },
    {
     "name": "stderr",
     "output_type": "stream",
     "text": [
      " 54%|█████▍    | 54114/99999 [00:30<00:26, 1739.09it/s]"
     ]
    },
    {
     "name": "stdout",
     "output_type": "stream",
     "text": [
      "1.566756193612083 30.014208407736042\n",
      "1.6823251840731868 29.246826781169126\n",
      "1.553472630472436 28.87046955048592\n",
      "1.5166591721538696 28.929599726387572\n"
     ]
    },
    {
     "name": "stderr",
     "output_type": "stream",
     "text": [
      " 54%|█████▍    | 54483/99999 [00:30<00:25, 1779.38it/s]"
     ]
    },
    {
     "name": "stdout",
     "output_type": "stream",
     "text": [
      "1.6894295269564144 28.36662048189001\n",
      "1.6371852121163477 34.48283381137357\n",
      "1.571578875246169 32.034705229239634\n",
      "1.6689933920224191 29.995532980824034\n"
     ]
    },
    {
     "name": "stderr",
     "output_type": "stream",
     "text": [
      " 55%|█████▍    | 54850/99999 [00:30<00:24, 1807.87it/s]"
     ]
    },
    {
     "name": "stdout",
     "output_type": "stream",
     "text": [
      "1.5697686632307748 33.73802592865732\n",
      "1.578520497482538 31.40361171148878\n",
      "1.6717997379619771 31.09131969947293\n"
     ]
    },
    {
     "name": "stderr",
     "output_type": "stream",
     "text": [
      " 55%|█████▌    | 55048/99999 [00:30<00:24, 1854.94it/s]"
     ]
    },
    {
     "name": "stdout",
     "output_type": "stream",
     "text": [
      "1.6651679318022787 30.821329987782505\n"
     ]
    },
    {
     "name": "stderr",
     "output_type": "stream",
     "text": [
      " 55%|█████▌    | 55235/99999 [00:30<00:24, 1831.45it/s]"
     ]
    },
    {
     "name": "stdout",
     "output_type": "stream",
     "text": [
      "1.601911131094492 32.31326421008218\n",
      "1.6237709467693977 31.98935810021956\n",
      "1.6312672436678217 30.846861046516363\n"
     ]
    },
    {
     "name": "stderr",
     "output_type": "stream",
     "text": [
      " 55%|█████▌    | 55427/99999 [00:30<00:24, 1856.93it/s]"
     ]
    },
    {
     "name": "stdout",
     "output_type": "stream",
     "text": [
      "1.7580403292341098 28.230372289379204\n"
     ]
    },
    {
     "name": "stderr",
     "output_type": "stream",
     "text": [
      " 56%|█████▌    | 55628/99999 [00:30<00:23, 1900.29it/s]"
     ]
    },
    {
     "name": "stdout",
     "output_type": "stream",
     "text": [
      "1.5656946407664964 33.39253382995995\n",
      "1.6706406930363977 32.05118832049471\n",
      "1.6288746067062816 29.438584776306875\n"
     ]
    },
    {
     "name": "stderr",
     "output_type": "stream",
     "text": [
      " 56%|█████▌    | 55819/99999 [00:31<00:23, 1889.13it/s]"
     ]
    },
    {
     "name": "stdout",
     "output_type": "stream",
     "text": [
      "1.6091949405393065 31.115720759055417\n"
     ]
    },
    {
     "name": "stderr",
     "output_type": "stream",
     "text": [
      " 56%|█████▌    | 56013/99999 [00:31<00:23, 1903.91it/s]"
     ]
    },
    {
     "name": "stdout",
     "output_type": "stream",
     "text": [
      "1.6588570277628416 33.08010620442423\n",
      "1.589287135934784 33.16852474847701\n",
      "1.769076425273477 29.27403207289027\n"
     ]
    },
    {
     "name": "stderr",
     "output_type": "stream",
     "text": [
      " 56%|█████▌    | 56211/99999 [00:31<00:22, 1924.87it/s]"
     ]
    },
    {
     "name": "stdout",
     "output_type": "stream",
     "text": [
      "1.5764133652170615 32.96943856184875\n"
     ]
    },
    {
     "name": "stderr",
     "output_type": "stream",
     "text": [
      " 56%|█████▋    | 56404/99999 [00:31<00:22, 1896.74it/s]"
     ]
    },
    {
     "name": "stdout",
     "output_type": "stream",
     "text": [
      "1.6079173560572182 32.884719569855356\n",
      "1.512883233931073 30.557760814752708\n",
      "1.6557850520490067 33.88397693576938\n"
     ]
    },
    {
     "name": "stderr",
     "output_type": "stream",
     "text": [
      " 57%|█████▋    | 56594/99999 [00:31<00:23, 1871.54it/s]"
     ]
    },
    {
     "name": "stdout",
     "output_type": "stream",
     "text": [
      "1.5172809094277917 31.848264674782797\n"
     ]
    },
    {
     "name": "stderr",
     "output_type": "stream",
     "text": [
      " 57%|█████▋    | 56782/99999 [00:31<00:24, 1794.86it/s]"
     ]
    },
    {
     "name": "stdout",
     "output_type": "stream",
     "text": [
      "1.5905806444768644 33.57176610135434\n",
      "1.6112453815755816 31.48220861017012\n",
      "1.68697990418187 30.132134749666164\n"
     ]
    },
    {
     "name": "stderr",
     "output_type": "stream",
     "text": [
      " 57%|█████▋    | 56974/99999 [00:31<00:23, 1828.20it/s]"
     ]
    },
    {
     "name": "stdout",
     "output_type": "stream",
     "text": [
      "1.5975130900484136 31.713983565445815\n"
     ]
    },
    {
     "name": "stderr",
     "output_type": "stream",
     "text": [
      " 57%|█████▋    | 57335/99999 [00:31<00:24, 1750.24it/s]"
     ]
    },
    {
     "name": "stdout",
     "output_type": "stream",
     "text": [
      "1.6786278681132258 31.45937565559881\n",
      "1.623875232231719 31.709703212270163\n",
      "1.536515436521425 29.249287262588673\n",
      "1.7184571318213262 33.209887848138294\n"
     ]
    },
    {
     "name": "stderr",
     "output_type": "stream",
     "text": [
      " 58%|█████▊    | 57706/99999 [00:32<00:23, 1799.96it/s]"
     ]
    },
    {
     "name": "stdout",
     "output_type": "stream",
     "text": [
      "1.6399777433270608 32.58874428447038\n",
      "1.611582159051017 32.25271763391257\n",
      "1.6249117118877618 30.23613187268277\n",
      "1.4891119264233368 29.527988525849253\n"
     ]
    },
    {
     "name": "stderr",
     "output_type": "stream",
     "text": [
      " 58%|█████▊    | 58084/99999 [00:32<00:23, 1772.94it/s]"
     ]
    },
    {
     "name": "stdout",
     "output_type": "stream",
     "text": [
      "1.7681952535388088 28.698746310188785\n",
      "1.56624860372749 29.294937896594103\n",
      "1.725824724297945 32.45838031813943\n",
      "1.5917425025804335 30.266587770759052\n"
     ]
    },
    {
     "name": "stderr",
     "output_type": "stream",
     "text": [
      " 58%|█████▊    | 58453/99999 [00:32<00:23, 1802.05it/s]"
     ]
    },
    {
     "name": "stdout",
     "output_type": "stream",
     "text": [
      "1.6619311815440463 32.84999339991418\n",
      "1.6079037293509588 31.734237355380778\n",
      "1.6908282961357493 31.951758623718305\n"
     ]
    },
    {
     "name": "stderr",
     "output_type": "stream",
     "text": [
      " 59%|█████▊    | 58634/99999 [00:32<00:23, 1776.92it/s]"
     ]
    },
    {
     "name": "stdout",
     "output_type": "stream",
     "text": [
      "1.541109253862975 34.585668569798216\n"
     ]
    },
    {
     "name": "stderr",
     "output_type": "stream",
     "text": [
      " 59%|█████▉    | 58813/99999 [00:32<00:24, 1688.79it/s]"
     ]
    },
    {
     "name": "stdout",
     "output_type": "stream",
     "text": [
      "1.6490157121747773 33.29192346135811\n",
      "1.6703607381841306 31.334999689104293\n",
      "1.650725776007792 32.712383103142244\n"
     ]
    },
    {
     "name": "stderr",
     "output_type": "stream",
     "text": [
      " 59%|█████▉    | 59009/99999 [00:32<00:23, 1760.94it/s]"
     ]
    },
    {
     "name": "stdout",
     "output_type": "stream",
     "text": [
      "1.698193056680042 28.93621045794336\n"
     ]
    },
    {
     "name": "stderr",
     "output_type": "stream",
     "text": [
      " 59%|█████▉    | 59198/99999 [00:32<00:22, 1796.33it/s]"
     ]
    },
    {
     "name": "stdout",
     "output_type": "stream",
     "text": [
      "1.59738765685421 31.818114221419247\n",
      "1.7282203710466115 32.07576298292826\n",
      "1.647324988752341 32.340173749111074\n"
     ]
    },
    {
     "name": "stderr",
     "output_type": "stream",
     "text": [
      " 59%|█████▉    | 59395/99999 [00:32<00:22, 1843.00it/s]"
     ]
    },
    {
     "name": "stdout",
     "output_type": "stream",
     "text": [
      "1.7026364909916227 33.20208679953818\n"
     ]
    },
    {
     "name": "stderr",
     "output_type": "stream",
     "text": [
      " 60%|█████▉    | 59786/99999 [00:33<00:21, 1899.40it/s]"
     ]
    },
    {
     "name": "stdout",
     "output_type": "stream",
     "text": [
      "1.7139277942421254 29.821957835035235\n",
      "1.447939830425013 27.76710525043349\n",
      "1.6287827688519165 30.298824624906594\n",
      "1.6282101836969745 29.91500945687403\n"
     ]
    },
    {
     "name": "stderr",
     "output_type": "stream",
     "text": [
      " 60%|██████    | 60174/99999 [00:33<00:20, 1918.20it/s]"
     ]
    },
    {
     "name": "stdout",
     "output_type": "stream",
     "text": [
      "1.7384455658273479 31.679615681643483\n",
      "1.5983515091252818 32.54102970571568\n",
      "1.6336577174872218 34.17947131106527\n",
      "1.6283395681858757 31.376107876110524\n"
     ]
    },
    {
     "name": "stderr",
     "output_type": "stream",
     "text": [
      " 61%|██████    | 60557/99999 [00:33<00:21, 1877.88it/s]"
     ]
    },
    {
     "name": "stdout",
     "output_type": "stream",
     "text": [
      "1.6492154075869412 30.75453611984671\n",
      "1.6180275101871608 34.27626421335296\n",
      "1.6846309575343816 32.96706884443827\n",
      "1.6330011335507777 35.21049871328144\n"
     ]
    },
    {
     "name": "stderr",
     "output_type": "stream",
     "text": [
      " 61%|██████    | 60932/99999 [00:33<00:21, 1848.03it/s]"
     ]
    },
    {
     "name": "stdout",
     "output_type": "stream",
     "text": [
      "1.5931889366407344 29.431308385651107\n",
      "1.6660609339421708 30.820601097694137\n",
      "1.5528694239497471 29.399898655872814\n",
      "1.6057942374153737 32.75797894539788\n"
     ]
    },
    {
     "name": "stderr",
     "output_type": "stream",
     "text": [
      " 61%|██████▏   | 61309/99999 [00:34<00:20, 1853.07it/s]"
     ]
    },
    {
     "name": "stdout",
     "output_type": "stream",
     "text": [
      "1.6518818450528412 33.29661837185504\n",
      "1.5999998473539352 31.3402719442363\n",
      "1.6526333018857318 35.54257862410864\n",
      "1.6092483346250526 31.53475817955094\n"
     ]
    },
    {
     "name": "stderr",
     "output_type": "stream",
     "text": [
      " 62%|██████▏   | 61688/99999 [00:34<00:20, 1870.33it/s]"
     ]
    },
    {
     "name": "stdout",
     "output_type": "stream",
     "text": [
      "1.613530872429677 30.661364078909294\n",
      "1.5335003209348868 30.66535827356475\n",
      "1.581310584001187 32.19521232966747\n",
      "1.6065131093206941 32.61367300375153\n"
     ]
    },
    {
     "name": "stderr",
     "output_type": "stream",
     "text": [
      " 62%|██████▏   | 62068/99999 [00:34<00:20, 1868.15it/s]"
     ]
    },
    {
     "name": "stdout",
     "output_type": "stream",
     "text": [
      "1.6897085225296555 31.35248764886142\n",
      "1.5979706596740537 32.43062892656233\n",
      "1.7259178304263214 30.364231775923024\n"
     ]
    },
    {
     "name": "stderr",
     "output_type": "stream",
     "text": [
      " 62%|██████▏   | 62263/99999 [00:34<00:19, 1891.05it/s]"
     ]
    },
    {
     "name": "stdout",
     "output_type": "stream",
     "text": [
      "1.564640519304299 29.732932419314608\n"
     ]
    },
    {
     "name": "stderr",
     "output_type": "stream",
     "text": [
      " 62%|██████▏   | 62456/99999 [00:34<00:19, 1900.10it/s]"
     ]
    },
    {
     "name": "stdout",
     "output_type": "stream",
     "text": [
      "1.6588411846756697 33.3073126664225\n",
      "1.6745875678925577 31.392387224234525\n",
      "1.5421849754665622 31.109085450565047\n"
     ]
    },
    {
     "name": "stderr",
     "output_type": "stream",
     "text": [
      " 63%|██████▎   | 62654/99999 [00:34<00:19, 1922.97it/s]"
     ]
    },
    {
     "name": "stdout",
     "output_type": "stream",
     "text": [
      "1.6556743373986795 34.36905742903126\n"
     ]
    },
    {
     "name": "stderr",
     "output_type": "stream",
     "text": [
      " 63%|██████▎   | 62847/99999 [00:34<00:19, 1919.45it/s]"
     ]
    },
    {
     "name": "stdout",
     "output_type": "stream",
     "text": [
      "1.5794847089190458 32.27268627906725\n",
      "1.6712258341808957 29.850559043530325\n",
      "1.6623543910189253 33.471156963006074\n"
     ]
    },
    {
     "name": "stderr",
     "output_type": "stream",
     "text": [
      " 63%|██████▎   | 63044/99999 [00:34<00:19, 1931.20it/s]"
     ]
    },
    {
     "name": "stdout",
     "output_type": "stream",
     "text": [
      "1.6201565564771783 31.246721498204092\n"
     ]
    },
    {
     "name": "stderr",
     "output_type": "stream",
     "text": [
      " 63%|██████▎   | 63238/99999 [00:35<00:20, 1834.92it/s]"
     ]
    },
    {
     "name": "stdout",
     "output_type": "stream",
     "text": [
      "1.6182539990115932 31.365478698377412\n",
      "1.550059632924531 30.528590676723883\n",
      "1.7289125854600906 33.440350980962364\n"
     ]
    },
    {
     "name": "stderr",
     "output_type": "stream",
     "text": [
      " 63%|██████▎   | 63423/99999 [00:35<00:20, 1805.01it/s]"
     ]
    },
    {
     "name": "stdout",
     "output_type": "stream",
     "text": [
      "1.662613935951058 30.945978201594322\n"
     ]
    },
    {
     "name": "stderr",
     "output_type": "stream",
     "text": [
      " 64%|██████▎   | 63612/99999 [00:35<00:19, 1829.12it/s]"
     ]
    },
    {
     "name": "stdout",
     "output_type": "stream",
     "text": [
      "1.5796394900464639 31.140008399423433\n",
      "1.6063607986978194 30.303975906083334\n",
      "1.6558187714954957 30.93051934076776\n"
     ]
    },
    {
     "name": "stderr",
     "output_type": "stream",
     "text": [
      " 64%|██████▍   | 63810/99999 [00:35<00:19, 1870.94it/s]"
     ]
    },
    {
     "name": "stdout",
     "output_type": "stream",
     "text": [
      "1.5768584732534998 30.913628189295757\n"
     ]
    },
    {
     "name": "stderr",
     "output_type": "stream",
     "text": [
      " 64%|██████▍   | 63998/99999 [00:35<00:19, 1823.81it/s]"
     ]
    },
    {
     "name": "stdout",
     "output_type": "stream",
     "text": [
      "1.6789146617114863 31.246857008123715\n",
      "1.6034756785660653 30.77111528801837\n",
      "1.6164914085299287 36.7438369472604\n"
     ]
    },
    {
     "name": "stderr",
     "output_type": "stream",
     "text": [
      " 64%|██████▍   | 64193/99999 [00:35<00:19, 1858.35it/s]"
     ]
    },
    {
     "name": "stdout",
     "output_type": "stream",
     "text": [
      "1.6589535478907735 31.085980947888977\n"
     ]
    },
    {
     "name": "stderr",
     "output_type": "stream",
     "text": [
      " 65%|██████▍   | 64566/99999 [00:35<00:19, 1842.76it/s]"
     ]
    },
    {
     "name": "stdout",
     "output_type": "stream",
     "text": [
      "1.611553153247256 31.232075301085754\n",
      "1.611864718587552 31.583298571150774\n",
      "1.7007109407435645 30.920793646367382\n",
      "1.5056690150233292 31.32042189545914\n"
     ]
    },
    {
     "name": "stderr",
     "output_type": "stream",
     "text": [
      " 65%|██████▍   | 64952/99999 [00:35<00:18, 1845.07it/s]"
     ]
    },
    {
     "name": "stdout",
     "output_type": "stream",
     "text": [
      "1.7479011362097565 29.37710058544326\n",
      "1.6511370359983377 30.791646843048692\n",
      "1.6024181321242774 30.85725288846313\n",
      "1.7297220307648877 29.851404360223874\n"
     ]
    },
    {
     "name": "stderr",
     "output_type": "stream",
     "text": [
      " 65%|██████▌   | 65327/99999 [00:36<00:18, 1844.47it/s]"
     ]
    },
    {
     "name": "stdout",
     "output_type": "stream",
     "text": [
      "1.4922334321089292 28.942632538679238\n",
      "1.6204353121434192 31.16920985517115\n",
      "1.5542515018309035 34.115008701670185\n",
      "1.6569911955593002 32.87218026060752\n"
     ]
    },
    {
     "name": "stderr",
     "output_type": "stream",
     "text": [
      " 66%|██████▌   | 65708/99999 [00:36<00:18, 1865.21it/s]"
     ]
    },
    {
     "name": "stdout",
     "output_type": "stream",
     "text": [
      "1.6123243079079395 29.733856567627917\n",
      "1.6280064626610227 33.72134431914216\n",
      "1.6727356460564557 33.09400108520755\n",
      "1.5822758465238476 34.21589925204409\n"
     ]
    },
    {
     "name": "stderr",
     "output_type": "stream",
     "text": [
      " 66%|██████▌   | 66104/99999 [00:36<00:17, 1922.60it/s]"
     ]
    },
    {
     "name": "stdout",
     "output_type": "stream",
     "text": [
      "1.599653204655293 31.506187690265257\n",
      "1.640583211633716 32.09738905258139\n",
      "1.645263313484537 34.816725176145894\n",
      "1.56123924108415 33.656650361343004\n"
     ]
    },
    {
     "name": "stderr",
     "output_type": "stream",
     "text": [
      " 66%|██████▋   | 66493/99999 [00:36<00:17, 1895.03it/s]"
     ]
    },
    {
     "name": "stdout",
     "output_type": "stream",
     "text": [
      "1.6278865204634783 31.12559569410266\n",
      "1.7011255886408225 31.588471976731388\n",
      "1.6988840510705563 30.956585854492186\n",
      "1.5843769053626182 30.151240438018693\n"
     ]
    },
    {
     "name": "stderr",
     "output_type": "stream",
     "text": [
      " 67%|██████▋   | 66877/99999 [00:36<00:17, 1871.22it/s]"
     ]
    },
    {
     "name": "stdout",
     "output_type": "stream",
     "text": [
      "1.4901404749503873 28.60862940394251\n",
      "1.7430097469485055 31.193312801422273\n",
      "1.6210896448533785 31.753199181264385\n"
     ]
    },
    {
     "name": "stderr",
     "output_type": "stream",
     "text": [
      " 67%|██████▋   | 67067/99999 [00:37<00:17, 1878.07it/s]"
     ]
    },
    {
     "name": "stdout",
     "output_type": "stream",
     "text": [
      "1.5933378742444924 31.805092657937763\n"
     ]
    },
    {
     "name": "stderr",
     "output_type": "stream",
     "text": [
      " 67%|██████▋   | 67255/99999 [00:37<00:17, 1874.65it/s]"
     ]
    },
    {
     "name": "stdout",
     "output_type": "stream",
     "text": [
      "1.584630010363799 29.502740847413897\n",
      "1.5905763382386637 31.635274601080965\n",
      "1.6561883580108696 31.2092827768767\n"
     ]
    },
    {
     "name": "stderr",
     "output_type": "stream",
     "text": [
      " 67%|██████▋   | 67445/99999 [00:37<00:17, 1881.45it/s]"
     ]
    },
    {
     "name": "stdout",
     "output_type": "stream",
     "text": [
      "1.5804928246911165 32.05152043669433\n"
     ]
    },
    {
     "name": "stderr",
     "output_type": "stream",
     "text": [
      " 68%|██████▊   | 67634/99999 [00:37<00:17, 1877.54it/s]"
     ]
    },
    {
     "name": "stdout",
     "output_type": "stream",
     "text": [
      "1.7244723430553461 29.96222839889969\n",
      "1.6082054657003824 33.30318717164174\n",
      "1.6254526954900863 33.37990934576517\n"
     ]
    },
    {
     "name": "stderr",
     "output_type": "stream",
     "text": [
      " 68%|██████▊   | 67822/99999 [00:37<00:17, 1874.46it/s]"
     ]
    },
    {
     "name": "stdout",
     "output_type": "stream",
     "text": [
      "1.5943670282325468 34.15735874314473\n"
     ]
    },
    {
     "name": "stderr",
     "output_type": "stream",
     "text": [
      " 68%|██████▊   | 68010/99999 [00:37<00:17, 1871.94it/s]"
     ]
    },
    {
     "name": "stdout",
     "output_type": "stream",
     "text": [
      "1.578134356559063 31.193086235362472\n",
      "1.5957967952438195 33.16877589054175\n",
      "1.6243906241334578 31.96038131567061\n"
     ]
    },
    {
     "name": "stderr",
     "output_type": "stream",
     "text": [
      " 68%|██████▊   | 68208/99999 [00:37<00:16, 1901.55it/s]"
     ]
    },
    {
     "name": "stdout",
     "output_type": "stream",
     "text": [
      "1.6217289735783793 32.59231829467049\n"
     ]
    },
    {
     "name": "stderr",
     "output_type": "stream",
     "text": [
      " 68%|██████▊   | 68399/99999 [00:37<00:16, 1871.43it/s]"
     ]
    },
    {
     "name": "stdout",
     "output_type": "stream",
     "text": [
      "1.5786734810906378 32.84279477030348\n",
      "1.6850278078648075 32.87371331735898\n",
      "1.5275323664384917 29.778451642719773\n"
     ]
    },
    {
     "name": "stderr",
     "output_type": "stream",
     "text": [
      " 69%|██████▊   | 68587/99999 [00:37<00:17, 1840.86it/s]"
     ]
    },
    {
     "name": "stdout",
     "output_type": "stream",
     "text": [
      "1.6437430962594781 30.783455219699196\n"
     ]
    },
    {
     "name": "stderr",
     "output_type": "stream",
     "text": [
      " 69%|██████▉   | 68772/99999 [00:38<00:18, 1718.61it/s]"
     ]
    },
    {
     "name": "stdout",
     "output_type": "stream",
     "text": [
      "1.5675938084462806 32.10239835647573\n",
      "1.6950651814277164 29.980045331982687\n",
      "1.547941123004708 31.78577167495607\n"
     ]
    },
    {
     "name": "stderr",
     "output_type": "stream",
     "text": [
      " 69%|██████▉   | 68946/99999 [00:38<00:18, 1724.46it/s]"
     ]
    },
    {
     "name": "stdout",
     "output_type": "stream",
     "text": [
      "1.530219574346346 28.98563711993618\n"
     ]
    },
    {
     "name": "stderr",
     "output_type": "stream",
     "text": [
      " 69%|██████▉   | 69309/99999 [00:38<00:17, 1769.82it/s]"
     ]
    },
    {
     "name": "stdout",
     "output_type": "stream",
     "text": [
      "1.700243539964467 32.53528242734207\n",
      "1.5743425720138122 30.29544214386631\n",
      "1.6582602279866365 33.46360718551794\n",
      "1.6157007941679362 31.608491057690863\n"
     ]
    },
    {
     "name": "stderr",
     "output_type": "stream",
     "text": [
      " 70%|██████▉   | 69692/99999 [00:38<00:16, 1835.73it/s]"
     ]
    },
    {
     "name": "stdout",
     "output_type": "stream",
     "text": [
      "1.606636663430744 33.62479501759438\n",
      "1.6602543102983691 33.97894778899268\n",
      "1.5748974541727543 31.73835173565227\n",
      "1.704248150872539 31.81593162000338\n"
     ]
    },
    {
     "name": "stderr",
     "output_type": "stream",
     "text": [
      " 70%|███████   | 70057/99999 [00:38<00:16, 1783.66it/s]"
     ]
    },
    {
     "name": "stdout",
     "output_type": "stream",
     "text": [
      "1.5730094819265785 30.866050174681995\n",
      "1.6329934118253657 34.889555837558035\n",
      "1.5213906927306924 30.43294150252914\n"
     ]
    },
    {
     "name": "stderr",
     "output_type": "stream",
     "text": [
      " 70%|███████   | 70245/99999 [00:38<00:16, 1809.73it/s]"
     ]
    },
    {
     "name": "stdout",
     "output_type": "stream",
     "text": [
      "1.6468625667531065 32.443665566082885\n"
     ]
    },
    {
     "name": "stderr",
     "output_type": "stream",
     "text": [
      " 70%|███████   | 70428/99999 [00:38<00:16, 1814.74it/s]"
     ]
    },
    {
     "name": "stdout",
     "output_type": "stream",
     "text": [
      "1.6110066153050018 29.914657479506456\n",
      "1.6127207469649592 34.082971877865994\n",
      "1.697282025923212 32.404290005557385\n"
     ]
    },
    {
     "name": "stderr",
     "output_type": "stream",
     "text": [
      " 71%|███████   | 70628/99999 [00:39<00:15, 1864.13it/s]"
     ]
    },
    {
     "name": "stdout",
     "output_type": "stream",
     "text": [
      "1.494347932777826 29.93164131586403\n"
     ]
    },
    {
     "name": "stderr",
     "output_type": "stream",
     "text": [
      " 71%|███████   | 70815/99999 [00:39<00:16, 1797.77it/s]"
     ]
    },
    {
     "name": "stdout",
     "output_type": "stream",
     "text": [
      "1.6991067389858876 33.081441806198534\n",
      "1.597472518884764 30.32081782206307\n",
      "1.577351155384458 31.096593593691598\n"
     ]
    },
    {
     "name": "stderr",
     "output_type": "stream",
     "text": [
      " 71%|███████   | 71008/99999 [00:39<00:15, 1834.22it/s]"
     ]
    },
    {
     "name": "stdout",
     "output_type": "stream",
     "text": [
      "1.6328319576484602 33.25176923477757\n"
     ]
    },
    {
     "name": "stderr",
     "output_type": "stream",
     "text": [
      " 71%|███████   | 71193/99999 [00:39<00:15, 1805.63it/s]"
     ]
    },
    {
     "name": "stdout",
     "output_type": "stream",
     "text": [
      "1.5197210631948423 30.95955871843614\n",
      "1.6165915504282877 30.421976445146868\n",
      "1.657151181026883 32.02264222635958\n"
     ]
    },
    {
     "name": "stderr",
     "output_type": "stream",
     "text": [
      " 71%|███████▏  | 71375/99999 [00:39<00:16, 1763.07it/s]"
     ]
    },
    {
     "name": "stdout",
     "output_type": "stream",
     "text": [
      "1.700537835315322 32.019281256814715\n"
     ]
    },
    {
     "name": "stderr",
     "output_type": "stream",
     "text": [
      " 72%|███████▏  | 71756/99999 [00:39<00:15, 1800.84it/s]"
     ]
    },
    {
     "name": "stdout",
     "output_type": "stream",
     "text": [
      "1.5819289007767012 31.3784119429003\n",
      "1.6942683834596206 32.12966660548468\n",
      "1.584173345691895 29.66571671174069\n",
      "1.6463156049808148 29.910431588600964\n"
     ]
    },
    {
     "name": "stderr",
     "output_type": "stream",
     "text": [
      " 72%|███████▏  | 72147/99999 [00:39<00:14, 1878.18it/s]"
     ]
    },
    {
     "name": "stdout",
     "output_type": "stream",
     "text": [
      "1.5636509959097808 32.813557404937356\n",
      "1.603067034613277 30.817931019558173\n",
      "1.5619766137547242 33.789702300933385\n",
      "1.6340690592621983 31.74635682450643\n"
     ]
    },
    {
     "name": "stderr",
     "output_type": "stream",
     "text": [
      " 73%|███████▎  | 72532/99999 [00:40<00:14, 1869.79it/s]"
     ]
    },
    {
     "name": "stdout",
     "output_type": "stream",
     "text": [
      "1.6411333827189207 31.946367895252457\n",
      "1.6067407025047942 33.36474615989731\n",
      "1.650243972507063 33.928812495301386\n",
      "1.577136107308216 31.18121677522202\n"
     ]
    },
    {
     "name": "stderr",
     "output_type": "stream",
     "text": [
      " 73%|███████▎  | 72907/99999 [00:40<00:14, 1842.26it/s]"
     ]
    },
    {
     "name": "stdout",
     "output_type": "stream",
     "text": [
      "1.620483432790622 31.458314213611352\n",
      "1.6426579602915563 31.042705414562267\n",
      "1.6616146135793193 31.232912626240427\n",
      "1.644973396159567 32.29711218187878\n"
     ]
    },
    {
     "name": "stderr",
     "output_type": "stream",
     "text": [
      " 73%|███████▎  | 73274/99999 [00:40<00:14, 1792.30it/s]"
     ]
    },
    {
     "name": "stdout",
     "output_type": "stream",
     "text": [
      "1.7803740467680522 28.27142118951571\n",
      "1.514645353482784 31.78167097630551\n",
      "1.7323938550968763 32.11265000203241\n"
     ]
    },
    {
     "name": "stderr",
     "output_type": "stream",
     "text": [
      " 73%|███████▎  | 73473/99999 [00:40<00:14, 1847.27it/s]"
     ]
    },
    {
     "name": "stdout",
     "output_type": "stream",
     "text": [
      "1.5216997127393304 30.59723166192482\n"
     ]
    },
    {
     "name": "stderr",
     "output_type": "stream",
     "text": [
      " 74%|███████▎  | 73670/99999 [00:40<00:14, 1879.77it/s]"
     ]
    },
    {
     "name": "stdout",
     "output_type": "stream",
     "text": [
      "1.6936452896728713 30.212749201214585\n",
      "1.5872540503577963 33.697400190348574\n",
      "1.6673432718062435 32.18824172786287\n"
     ]
    },
    {
     "name": "stderr",
     "output_type": "stream",
     "text": [
      " 74%|███████▍  | 73867/99999 [00:40<00:13, 1905.89it/s]"
     ]
    },
    {
     "name": "stdout",
     "output_type": "stream",
     "text": [
      "1.7143595464649726 30.520741024823998\n"
     ]
    },
    {
     "name": "stderr",
     "output_type": "stream",
     "text": [
      " 74%|███████▍  | 74059/99999 [00:40<00:13, 1883.60it/s]"
     ]
    },
    {
     "name": "stdout",
     "output_type": "stream",
     "text": [
      "1.5223013861711707 30.834872336718433\n",
      "1.6293344548533675 34.174140111332115\n",
      "1.6140473283044303 31.73941808632771\n"
     ]
    },
    {
     "name": "stderr",
     "output_type": "stream",
     "text": [
      " 74%|███████▍  | 74248/99999 [00:41<00:13, 1878.84it/s]"
     ]
    },
    {
     "name": "stdout",
     "output_type": "stream",
     "text": [
      "1.6142005096778642 32.26305961599003\n"
     ]
    },
    {
     "name": "stderr",
     "output_type": "stream",
     "text": [
      " 74%|███████▍  | 74437/99999 [00:41<00:13, 1863.79it/s]"
     ]
    },
    {
     "name": "stdout",
     "output_type": "stream",
     "text": [
      "1.6109307551178174 31.805669535434163\n",
      "1.6461453460431168 31.741230501939285\n",
      "1.6212793375186638 34.988245959428895\n"
     ]
    },
    {
     "name": "stderr",
     "output_type": "stream",
     "text": [
      " 75%|███████▍  | 74626/99999 [00:41<00:13, 1869.35it/s]"
     ]
    },
    {
     "name": "stdout",
     "output_type": "stream",
     "text": [
      "1.5807783949507554 30.69023621399678\n"
     ]
    },
    {
     "name": "stderr",
     "output_type": "stream",
     "text": [
      " 75%|███████▍  | 74814/99999 [00:41<00:13, 1844.49it/s]"
     ]
    },
    {
     "name": "stdout",
     "output_type": "stream",
     "text": [
      "1.748895178449925 29.93226730340504\n",
      "1.516655969343735 30.75875798263369\n",
      "1.6498046383939347 30.15751497901864\n"
     ]
    },
    {
     "name": "stderr",
     "output_type": "stream",
     "text": [
      " 75%|███████▌  | 75001/99999 [00:41<00:13, 1849.40it/s]"
     ]
    },
    {
     "name": "stdout",
     "output_type": "stream",
     "text": [
      "1.4973251427659375 28.333365019246987\n"
     ]
    },
    {
     "name": "stderr",
     "output_type": "stream",
     "text": [
      " 75%|███████▌  | 75187/99999 [00:41<00:13, 1849.93it/s]"
     ]
    },
    {
     "name": "stdout",
     "output_type": "stream",
     "text": [
      "1.6499392715603602 29.91988924607431\n",
      "1.6480194029834796 31.632371188536666\n",
      "1.6700996161284207 34.68276444391634\n"
     ]
    },
    {
     "name": "stderr",
     "output_type": "stream",
     "text": [
      " 75%|███████▌  | 75386/99999 [00:41<00:13, 1888.99it/s]"
     ]
    },
    {
     "name": "stdout",
     "output_type": "stream",
     "text": [
      "1.5422659020851395 29.22616372751006\n"
     ]
    },
    {
     "name": "stderr",
     "output_type": "stream",
     "text": [
      " 76%|███████▌  | 75768/99999 [00:41<00:12, 1888.39it/s]"
     ]
    },
    {
     "name": "stdout",
     "output_type": "stream",
     "text": [
      "1.5308555498721788 30.286666819338826\n",
      "1.6911742436789445 29.203890084366705\n",
      "1.5445225651832568 32.56741374058164\n",
      "1.665519531557978 30.54712755521483\n"
     ]
    },
    {
     "name": "stderr",
     "output_type": "stream",
     "text": [
      " 76%|███████▌  | 76144/99999 [00:42<00:13, 1813.12it/s]"
     ]
    },
    {
     "name": "stdout",
     "output_type": "stream",
     "text": [
      "1.5863808542995887 31.017697758860784\n",
      "1.7166368096497833 32.071998452629046\n",
      "1.6194445408877565 32.83451127409091\n",
      "1.5772963024334734 32.336090548571505\n"
     ]
    },
    {
     "name": "stderr",
     "output_type": "stream",
     "text": [
      " 77%|███████▋  | 76516/99999 [00:42<00:12, 1835.08it/s]"
     ]
    },
    {
     "name": "stdout",
     "output_type": "stream",
     "text": [
      "1.713818165457457 33.0702062858693\n",
      "1.546080204886628 34.57154527233607\n",
      "1.718064573551282 29.84386357975384\n",
      "1.6711799816113575 30.72046129692479\n"
     ]
    },
    {
     "name": "stderr",
     "output_type": "stream",
     "text": [
      " 77%|███████▋  | 76890/99999 [00:42<00:12, 1846.81it/s]"
     ]
    },
    {
     "name": "stdout",
     "output_type": "stream",
     "text": [
      "1.581200052513248 31.53309400448868\n",
      "1.5953192369987719 30.52338231283639\n",
      "1.6324289148273117 32.07521619872822\n",
      "1.5362474212541688 30.82682802362813\n"
     ]
    },
    {
     "name": "stderr",
     "output_type": "stream",
     "text": [
      " 77%|███████▋  | 77267/99999 [00:42<00:12, 1849.64it/s]"
     ]
    },
    {
     "name": "stdout",
     "output_type": "stream",
     "text": [
      "1.689505796522612 30.213447777410014\n",
      "1.6789435829819994 32.58793708953293\n",
      "1.6169668216138502 29.793109182498824\n"
     ]
    },
    {
     "name": "stderr",
     "output_type": "stream",
     "text": [
      " 77%|███████▋  | 77453/99999 [00:42<00:12, 1830.43it/s]"
     ]
    },
    {
     "name": "stdout",
     "output_type": "stream",
     "text": [
      "1.5300774443078835 31.292015318382166\n"
     ]
    },
    {
     "name": "stderr",
     "output_type": "stream",
     "text": [
      " 78%|███████▊  | 77639/99999 [00:42<00:12, 1836.92it/s]"
     ]
    },
    {
     "name": "stdout",
     "output_type": "stream",
     "text": [
      "1.665512880949679 33.21780993338523\n",
      "1.603291661600506 30.21035293018494\n",
      "1.6337771502922123 32.18232673712632\n"
     ]
    },
    {
     "name": "stderr",
     "output_type": "stream",
     "text": [
      " 78%|███████▊  | 77834/99999 [00:42<00:11, 1868.25it/s]"
     ]
    },
    {
     "name": "stdout",
     "output_type": "stream",
     "text": [
      "1.6582450797012462 34.25218890865932\n"
     ]
    },
    {
     "name": "stderr",
     "output_type": "stream",
     "text": [
      " 78%|███████▊  | 78022/99999 [00:43<00:11, 1852.91it/s]"
     ]
    },
    {
     "name": "stdout",
     "output_type": "stream",
     "text": [
      "1.5484982873619373 31.68070344158611\n",
      "1.7163017107588727 30.868787448508144\n",
      "1.5464632807052345 31.14773952844127\n"
     ]
    },
    {
     "name": "stderr",
     "output_type": "stream",
     "text": [
      " 78%|███████▊  | 78208/99999 [00:43<00:11, 1850.93it/s]"
     ]
    },
    {
     "name": "stdout",
     "output_type": "stream",
     "text": [
      "1.746891926740649 30.482859707337433\n"
     ]
    },
    {
     "name": "stderr",
     "output_type": "stream",
     "text": [
      " 78%|███████▊  | 78394/99999 [00:43<00:12, 1787.98it/s]"
     ]
    },
    {
     "name": "stdout",
     "output_type": "stream",
     "text": [
      "1.6701073334250447 34.04403848531902\n",
      "1.5911634550321494 34.381917016874965\n",
      "1.7268576622927756 31.175516993948087\n"
     ]
    },
    {
     "name": "stderr",
     "output_type": "stream",
     "text": [
      " 79%|███████▊  | 78574/99999 [00:43<00:12, 1734.96it/s]"
     ]
    },
    {
     "name": "stdout",
     "output_type": "stream",
     "text": [
      "1.5616302734066496 29.372565137272883\n"
     ]
    },
    {
     "name": "stderr",
     "output_type": "stream",
     "text": [
      " 79%|███████▉  | 78957/99999 [00:43<00:11, 1813.39it/s]"
     ]
    },
    {
     "name": "stdout",
     "output_type": "stream",
     "text": [
      "1.6497908380773776 30.749420833303912\n",
      "1.5988189209579113 34.09738709426078\n",
      "1.6567035463800064 29.940282530705467\n",
      "1.6563675439751775 31.088002564384695\n"
     ]
    },
    {
     "name": "stderr",
     "output_type": "stream",
     "text": [
      " 79%|███████▉  | 79331/99999 [00:43<00:11, 1839.15it/s]"
     ]
    },
    {
     "name": "stdout",
     "output_type": "stream",
     "text": [
      "1.585460450458674 33.946611786594886\n",
      "1.6139914270812303 31.523789217222614\n",
      "1.6515975217746055 32.486766375988935\n",
      "1.5705498239490983 34.16647238912645\n"
     ]
    },
    {
     "name": "stderr",
     "output_type": "stream",
     "text": [
      " 80%|███████▉  | 79708/99999 [00:43<00:11, 1805.86it/s]"
     ]
    },
    {
     "name": "stdout",
     "output_type": "stream",
     "text": [
      "1.6709937530787644 32.06691449514727\n",
      "1.5562894646938221 33.42663088561205\n",
      "1.522427722103463 30.163011175754708\n",
      "1.7170834346665558 30.783088642746456\n"
     ]
    },
    {
     "name": "stderr",
     "output_type": "stream",
     "text": [
      " 80%|████████  | 80080/99999 [00:44<00:10, 1832.77it/s]"
     ]
    },
    {
     "name": "stdout",
     "output_type": "stream",
     "text": [
      "1.5408951114113167 32.37202202235491\n",
      "1.6423544765660074 32.972150501645075\n",
      "1.5169807392516168 28.81244033328795\n"
     ]
    },
    {
     "name": "stderr",
     "output_type": "stream",
     "text": [
      " 80%|████████  | 80269/99999 [00:44<00:10, 1848.42it/s]"
     ]
    },
    {
     "name": "stdout",
     "output_type": "stream",
     "text": [
      "1.7082178909928636 31.51594225688815\n"
     ]
    },
    {
     "name": "stderr",
     "output_type": "stream",
     "text": [
      " 80%|████████  | 80460/99999 [00:44<00:10, 1865.98it/s]"
     ]
    },
    {
     "name": "stdout",
     "output_type": "stream",
     "text": [
      "1.5553290374615056 32.79504037596227\n",
      "1.5977434013231646 30.348097226761897\n",
      "1.6095861340846878 30.9815917433774\n"
     ]
    },
    {
     "name": "stderr",
     "output_type": "stream",
     "text": [
      " 81%|████████  | 80652/99999 [00:44<00:10, 1881.77it/s]"
     ]
    },
    {
     "name": "stdout",
     "output_type": "stream",
     "text": [
      "1.6325029433817133 32.58801872520412\n"
     ]
    },
    {
     "name": "stderr",
     "output_type": "stream",
     "text": [
      " 81%|████████  | 80841/99999 [00:44<00:10, 1872.73it/s]"
     ]
    },
    {
     "name": "stdout",
     "output_type": "stream",
     "text": [
      "1.6466369259186753 30.822808691769602\n",
      "1.713538191613461 34.10375633924642\n",
      "1.579634061853769 31.925402985087153\n"
     ]
    },
    {
     "name": "stderr",
     "output_type": "stream",
     "text": [
      " 81%|████████  | 81029/99999 [00:44<00:10, 1871.45it/s]"
     ]
    },
    {
     "name": "stdout",
     "output_type": "stream",
     "text": [
      "1.7109334776050316 31.741589350356946\n"
     ]
    },
    {
     "name": "stderr",
     "output_type": "stream",
     "text": [
      " 81%|████████  | 81218/99999 [00:44<00:10, 1876.01it/s]"
     ]
    },
    {
     "name": "stdout",
     "output_type": "stream",
     "text": [
      "1.5186756728568602 33.170651348619444\n",
      "1.6601097212904856 35.713209939920034\n",
      "1.5519917284681413 31.277354362380063\n"
     ]
    },
    {
     "name": "stderr",
     "output_type": "stream",
     "text": [
      " 81%|████████▏ | 81406/99999 [00:44<00:09, 1874.54it/s]"
     ]
    },
    {
     "name": "stdout",
     "output_type": "stream",
     "text": [
      "1.603529543740686 28.90336285773499\n"
     ]
    },
    {
     "name": "stderr",
     "output_type": "stream",
     "text": [
      " 82%|████████▏ | 81594/99999 [00:45<00:10, 1823.53it/s]"
     ]
    },
    {
     "name": "stdout",
     "output_type": "stream",
     "text": [
      "1.542967187057587 33.148258303288664\n",
      "1.6461523781516234 32.33977209561928\n",
      "1.5474895481900577 30.769197844854467\n"
     ]
    },
    {
     "name": "stderr",
     "output_type": "stream",
     "text": [
      " 82%|████████▏ | 81777/99999 [00:45<00:10, 1806.39it/s]"
     ]
    },
    {
     "name": "stdout",
     "output_type": "stream",
     "text": [
      "1.6923187828256883 32.34247242942618\n"
     ]
    },
    {
     "name": "stderr",
     "output_type": "stream",
     "text": [
      " 82%|████████▏ | 82159/99999 [00:45<00:09, 1849.96it/s]"
     ]
    },
    {
     "name": "stdout",
     "output_type": "stream",
     "text": [
      "1.5823266285625741 30.781896423462094\n",
      "1.7040394111641322 29.176554916113567\n",
      "1.731286068780198 29.37960381695205\n",
      "1.5557589575321973 30.250302783110282\n"
     ]
    },
    {
     "name": "stderr",
     "output_type": "stream",
     "text": [
      " 83%|████████▎ | 82535/99999 [00:45<00:09, 1861.38it/s]"
     ]
    },
    {
     "name": "stdout",
     "output_type": "stream",
     "text": [
      "1.6635252346245537 31.64579980429768\n",
      "1.658264903846857 32.63853173131257\n",
      "1.5620691464282128 31.78952419595875\n",
      "1.7065110303910769 32.64346976681864\n"
     ]
    },
    {
     "name": "stderr",
     "output_type": "stream",
     "text": [
      " 83%|████████▎ | 82921/99999 [00:45<00:09, 1891.98it/s]"
     ]
    },
    {
     "name": "stdout",
     "output_type": "stream",
     "text": [
      "1.600140478777355 34.336772128110596\n",
      "1.603470712647801 33.68759162040825\n",
      "1.8065928740160744 27.021435303349698\n",
      "1.4903480147100934 28.157848723433695\n"
     ]
    },
    {
     "name": "stderr",
     "output_type": "stream",
     "text": [
      " 83%|████████▎ | 83305/99999 [00:45<00:08, 1889.45it/s]"
     ]
    },
    {
     "name": "stdout",
     "output_type": "stream",
     "text": [
      "1.7268932637042402 28.740789312082697\n",
      "1.5356918830255755 35.378076637733265\n",
      "1.7010834556291345 31.028172522032477\n",
      "1.5625378802045187 35.90561480157604\n"
     ]
    },
    {
     "name": "stderr",
     "output_type": "stream",
     "text": [
      " 84%|████████▎ | 83699/99999 [00:46<00:08, 1929.75it/s]"
     ]
    },
    {
     "name": "stdout",
     "output_type": "stream",
     "text": [
      "1.5761816184646684 33.29390911511797\n",
      "1.6691545658754583 31.621973310245096\n",
      "1.4979117391989585 30.224691455566536\n",
      "1.7478135053847104 32.44221920574334\n"
     ]
    },
    {
     "name": "stderr",
     "output_type": "stream",
     "text": [
      " 84%|████████▍ | 84093/99999 [00:46<00:08, 1948.65it/s]"
     ]
    },
    {
     "name": "stdout",
     "output_type": "stream",
     "text": [
      "1.5216154847754806 30.63619281429626\n",
      "1.611384281012832 33.571346645805086\n",
      "1.5917019423260186 31.31775237755984\n"
     ]
    },
    {
     "name": "stderr",
     "output_type": "stream",
     "text": [
      " 84%|████████▍ | 84288/99999 [00:46<00:08, 1932.32it/s]"
     ]
    },
    {
     "name": "stdout",
     "output_type": "stream",
     "text": [
      "1.6113619430805248 31.261694722543716\n"
     ]
    },
    {
     "name": "stderr",
     "output_type": "stream",
     "text": [
      " 84%|████████▍ | 84482/99999 [00:46<00:08, 1891.81it/s]"
     ]
    },
    {
     "name": "stdout",
     "output_type": "stream",
     "text": [
      "1.6091964692718783 32.558988512446064\n",
      "1.6353357944541742 32.883623983339454\n",
      "1.587861522228014 32.32220275351237\n"
     ]
    },
    {
     "name": "stderr",
     "output_type": "stream",
     "text": [
      " 85%|████████▍ | 84673/99999 [00:46<00:08, 1897.04it/s]"
     ]
    },
    {
     "name": "stdout",
     "output_type": "stream",
     "text": [
      "1.6339772051196284 33.92622371884414\n"
     ]
    },
    {
     "name": "stderr",
     "output_type": "stream",
     "text": [
      " 85%|████████▍ | 84866/99999 [00:46<00:07, 1904.80it/s]"
     ]
    },
    {
     "name": "stdout",
     "output_type": "stream",
     "text": [
      "1.5615683882913203 29.165031898555064\n",
      "1.6713523520977742 30.986268703270397\n",
      "1.6873778682805465 31.47032203384954\n"
     ]
    },
    {
     "name": "stderr",
     "output_type": "stream",
     "text": [
      " 85%|████████▌ | 85063/99999 [00:46<00:07, 1921.23it/s]"
     ]
    },
    {
     "name": "stdout",
     "output_type": "stream",
     "text": [
      "1.5659711034091972 32.35709868292989\n"
     ]
    },
    {
     "name": "stderr",
     "output_type": "stream",
     "text": [
      " 85%|████████▌ | 85256/99999 [00:46<00:07, 1888.75it/s]"
     ]
    },
    {
     "name": "stdout",
     "output_type": "stream",
     "text": [
      "1.685819082790957 30.742338537883334\n",
      "1.7540812034381998 29.61048094451264\n",
      "1.6349122617148215 31.245744070685067\n",
      "1.647534732537458 31.322086052995616\n"
     ]
    },
    {
     "name": "stderr",
     "output_type": "stream",
     "text": [
      " 86%|████████▌ | 85636/99999 [00:47<00:08, 1764.63it/s]"
     ]
    },
    {
     "name": "stdout",
     "output_type": "stream",
     "text": [
      "1.6621855417393068 31.367353345966336\n",
      "1.709323883419122 30.96914219945505\n",
      "1.70048032106097 31.35422523814202\n"
     ]
    },
    {
     "name": "stderr",
     "output_type": "stream",
     "text": [
      " 86%|████████▌ | 85836/99999 [00:47<00:07, 1827.17it/s]"
     ]
    },
    {
     "name": "stdout",
     "output_type": "stream",
     "text": [
      "1.5590271804886795 30.62361161389041\n"
     ]
    },
    {
     "name": "stderr",
     "output_type": "stream",
     "text": [
      " 86%|████████▌ | 86022/99999 [00:47<00:07, 1809.85it/s]"
     ]
    },
    {
     "name": "stdout",
     "output_type": "stream",
     "text": [
      "1.700190207342419 33.286026833981396\n",
      "1.5405747627635218 29.826129028906323\n",
      "1.7433996493298571 31.224228586095045\n"
     ]
    },
    {
     "name": "stderr",
     "output_type": "stream",
     "text": [
      " 86%|████████▌ | 86221/99999 [00:47<00:07, 1858.46it/s]"
     ]
    },
    {
     "name": "stdout",
     "output_type": "stream",
     "text": [
      "1.6418648248444967 31.78769151787169\n"
     ]
    },
    {
     "name": "stderr",
     "output_type": "stream",
     "text": [
      " 86%|████████▋ | 86409/99999 [00:47<00:07, 1864.23it/s]"
     ]
    },
    {
     "name": "stdout",
     "output_type": "stream",
     "text": [
      "1.5835085664699586 30.43043904227999\n",
      "1.5932249288179554 30.378387731917485\n",
      "1.6998775673144193 29.61354159000497\n"
     ]
    },
    {
     "name": "stderr",
     "output_type": "stream",
     "text": [
      " 87%|████████▋ | 86609/99999 [00:47<00:07, 1901.23it/s]"
     ]
    },
    {
     "name": "stdout",
     "output_type": "stream",
     "text": [
      "1.5689370349693366 31.55074267843936\n"
     ]
    },
    {
     "name": "stderr",
     "output_type": "stream",
     "text": [
      " 87%|████████▋ | 86801/99999 [00:47<00:07, 1850.71it/s]"
     ]
    },
    {
     "name": "stdout",
     "output_type": "stream",
     "text": [
      "1.6670685240742642 33.73989560885718\n",
      "1.5835350714803453 34.20698991146659\n",
      "1.6578620160741226 31.05425265244044\n"
     ]
    },
    {
     "name": "stderr",
     "output_type": "stream",
     "text": [
      " 87%|████████▋ | 86988/99999 [00:47<00:07, 1854.60it/s]"
     ]
    },
    {
     "name": "stdout",
     "output_type": "stream",
     "text": [
      "1.544231093731202 31.047881381446963\n"
     ]
    },
    {
     "name": "stderr",
     "output_type": "stream",
     "text": [
      " 87%|████████▋ | 87370/99999 [00:48<00:06, 1860.55it/s]"
     ]
    },
    {
     "name": "stdout",
     "output_type": "stream",
     "text": [
      "1.6927940180337875 32.45244902630041\n",
      "1.560771272056017 28.996006853340337\n",
      "1.5713664115000103 32.6892346412008\n",
      "1.6852077288932876 32.14206749538493\n"
     ]
    },
    {
     "name": "stderr",
     "output_type": "stream",
     "text": [
      " 88%|████████▊ | 87754/99999 [00:48<00:06, 1827.07it/s]"
     ]
    },
    {
     "name": "stdout",
     "output_type": "stream",
     "text": [
      "1.6466505342237334 35.17309737693772\n",
      "1.5960782820422224 31.181120147813782\n",
      "1.5950023972367116 32.894917500589024\n",
      "1.5680490774008415 31.071453109651845\n"
     ]
    },
    {
     "name": "stderr",
     "output_type": "stream",
     "text": [
      " 88%|████████▊ | 88124/99999 [00:48<00:06, 1753.29it/s]"
     ]
    },
    {
     "name": "stdout",
     "output_type": "stream",
     "text": [
      "1.6540765846178727 31.987598715122413\n",
      "1.5823258878607154 33.67442598757618\n",
      "1.6036149426248478 31.082925083852224\n",
      "1.4679068498241292 29.27905553750744\n"
     ]
    },
    {
     "name": "stderr",
     "output_type": "stream",
     "text": [
      " 88%|████████▊ | 88484/99999 [00:48<00:06, 1769.68it/s]"
     ]
    },
    {
     "name": "stdout",
     "output_type": "stream",
     "text": [
      "1.7540495507330598 31.790195451194418\n",
      "1.5053560403897361 29.777138097726404\n",
      "1.6459909686597476 30.32837155326576\n",
      "1.603860892694624 31.24570416061922\n"
     ]
    },
    {
     "name": "stderr",
     "output_type": "stream",
     "text": [
      " 89%|████████▉ | 88842/99999 [00:48<00:06, 1773.56it/s]"
     ]
    },
    {
     "name": "stdout",
     "output_type": "stream",
     "text": [
      "1.5755415975847409 30.80394548814017\n",
      "1.6347548290347658 31.48720390145688\n",
      "1.5914714559311876 29.47413810344625\n"
     ]
    },
    {
     "name": "stderr",
     "output_type": "stream",
     "text": [
      " 89%|████████▉ | 89033/99999 [00:49<00:06, 1809.55it/s]"
     ]
    },
    {
     "name": "stdout",
     "output_type": "stream",
     "text": [
      "1.6627319544212371 30.83091478434124\n"
     ]
    },
    {
     "name": "stderr",
     "output_type": "stream",
     "text": [
      " 89%|████████▉ | 89216/99999 [00:49<00:05, 1813.85it/s]"
     ]
    },
    {
     "name": "stdout",
     "output_type": "stream",
     "text": [
      "1.5808675516444117 33.00157551214865\n",
      "1.5420398777938933 31.33095666490254\n",
      "1.7036837506682794 32.090114893302044\n"
     ]
    },
    {
     "name": "stderr",
     "output_type": "stream",
     "text": [
      " 89%|████████▉ | 89410/99999 [00:49<00:05, 1848.31it/s]"
     ]
    },
    {
     "name": "stdout",
     "output_type": "stream",
     "text": [
      "1.5721659348489965 34.063626544224576\n"
     ]
    },
    {
     "name": "stderr",
     "output_type": "stream",
     "text": [
      " 90%|████████▉ | 89596/99999 [00:49<00:05, 1841.26it/s]"
     ]
    },
    {
     "name": "stdout",
     "output_type": "stream",
     "text": [
      "1.6621593180889833 32.37674960129976\n",
      "1.5879733752344896 30.972727350860207\n",
      "1.6568399719551086 29.975738989744716\n"
     ]
    },
    {
     "name": "stderr",
     "output_type": "stream",
     "text": [
      " 90%|████████▉ | 89791/99999 [00:49<00:05, 1870.17it/s]"
     ]
    },
    {
     "name": "stdout",
     "output_type": "stream",
     "text": [
      "1.5723581528308708 35.76784033010063\n"
     ]
    },
    {
     "name": "stderr",
     "output_type": "stream",
     "text": [
      " 90%|████████▉ | 89979/99999 [00:49<00:05, 1783.82it/s]"
     ]
    },
    {
     "name": "stdout",
     "output_type": "stream",
     "text": [
      "1.6639487310660317 33.20309965752014\n",
      "1.5933325512635241 32.069191172292186\n",
      "1.623389681212161 30.403762217491824\n"
     ]
    },
    {
     "name": "stderr",
     "output_type": "stream",
     "text": [
      " 90%|█████████ | 90172/99999 [00:49<00:05, 1824.51it/s]"
     ]
    },
    {
     "name": "stdout",
     "output_type": "stream",
     "text": [
      "1.6799973276890745 29.91138670937088\n"
     ]
    },
    {
     "name": "stderr",
     "output_type": "stream",
     "text": [
      " 91%|█████████ | 90553/99999 [00:49<00:05, 1862.83it/s]"
     ]
    },
    {
     "name": "stdout",
     "output_type": "stream",
     "text": [
      "1.4818244799285647 28.8904381009351\n",
      "1.6101716919055695 33.02104709356511\n",
      "1.6324034201246265 32.10631899506484\n",
      "1.6562576577805568 31.0430320563685\n"
     ]
    },
    {
     "name": "stderr",
     "output_type": "stream",
     "text": [
      " 91%|█████████ | 90927/99999 [00:50<00:04, 1839.37it/s]"
     ]
    },
    {
     "name": "stdout",
     "output_type": "stream",
     "text": [
      "1.6237664377799903 32.28680992714571\n",
      "1.604781460818669 31.669606364739682\n",
      "1.7339465931801747 31.3498673538731\n",
      "1.7028353539189107 32.180425170210995\n"
     ]
    },
    {
     "name": "stderr",
     "output_type": "stream",
     "text": [
      " 91%|█████████▏| 91314/99999 [00:50<00:04, 1884.54it/s]"
     ]
    },
    {
     "name": "stdout",
     "output_type": "stream",
     "text": [
      "1.5499887964194992 32.80560566071858\n",
      "1.7138919182038617 30.975683293110823\n",
      "1.5377870981068766 29.619512308969338\n",
      "1.6472859986875454 29.729097952141665\n"
     ]
    },
    {
     "name": "stderr",
     "output_type": "stream",
     "text": [
      " 92%|█████████▏| 91710/99999 [00:50<00:04, 1931.22it/s]"
     ]
    },
    {
     "name": "stdout",
     "output_type": "stream",
     "text": [
      "1.6586846043972592 33.03787052783737\n",
      "1.59900268639295 32.115778855571456\n",
      "1.611015654139921 33.73496084282652\n",
      "1.6470500465477276 29.97528448509641\n"
     ]
    },
    {
     "name": "stderr",
     "output_type": "stream",
     "text": [
      " 92%|█████████▏| 92100/99999 [00:50<00:04, 1924.90it/s]"
     ]
    },
    {
     "name": "stdout",
     "output_type": "stream",
     "text": [
      "1.521759726955303 30.986315495616566\n",
      "1.678276755514852 30.894967571246635\n",
      "1.540215229218852 33.121513345574954\n",
      "1.7296430455002199 29.76424836576723\n"
     ]
    },
    {
     "name": "stderr",
     "output_type": "stream",
     "text": [
      " 92%|█████████▏| 92490/99999 [00:50<00:03, 1933.06it/s]"
     ]
    },
    {
     "name": "stdout",
     "output_type": "stream",
     "text": [
      "1.6912565698354176 32.28878885793717\n",
      "1.5858391840557267 31.039546185608366\n",
      "1.64116394617046 31.180708241988476\n"
     ]
    },
    {
     "name": "stderr",
     "output_type": "stream",
     "text": [
      " 93%|█████████▎| 92684/99999 [00:50<00:03, 1926.82it/s]"
     ]
    },
    {
     "name": "stdout",
     "output_type": "stream",
     "text": [
      "1.6390242939415756 34.396992049382455\n"
     ]
    },
    {
     "name": "stderr",
     "output_type": "stream",
     "text": [
      " 93%|█████████▎| 92877/99999 [00:51<00:03, 1897.69it/s]"
     ]
    },
    {
     "name": "stdout",
     "output_type": "stream",
     "text": [
      "1.5093517419272335 30.595965374756993\n",
      "1.7015793461467676 29.81647011676293\n",
      "1.5388107842731833 31.64206489864511\n"
     ]
    },
    {
     "name": "stderr",
     "output_type": "stream",
     "text": [
      " 93%|█████████▎| 93067/99999 [00:51<00:03, 1876.17it/s]"
     ]
    },
    {
     "name": "stdout",
     "output_type": "stream",
     "text": [
      "1.5734018331476372 32.056010937004544\n"
     ]
    },
    {
     "name": "stderr",
     "output_type": "stream",
     "text": [
      " 93%|█████████▎| 93263/99999 [00:51<00:03, 1898.75it/s]"
     ]
    },
    {
     "name": "stdout",
     "output_type": "stream",
     "text": [
      "1.6446707811033388 33.2829525356396\n",
      "1.5781104877287426 33.87348876289768\n",
      "1.6578908397008711 32.4235023301018\n"
     ]
    },
    {
     "name": "stderr",
     "output_type": "stream",
     "text": [
      " 93%|█████████▎| 93454/99999 [00:51<00:03, 1901.65it/s]"
     ]
    },
    {
     "name": "stdout",
     "output_type": "stream",
     "text": [
      "1.578439384281125 31.54467472761924\n"
     ]
    },
    {
     "name": "stderr",
     "output_type": "stream",
     "text": [
      " 94%|█████████▎| 93645/99999 [00:51<00:03, 1854.57it/s]"
     ]
    },
    {
     "name": "stdout",
     "output_type": "stream",
     "text": [
      "1.639551504551735 33.27219825847554\n",
      "1.623889249790439 30.22341731240644\n",
      "1.6416700522259198 32.29017684422654\n"
     ]
    },
    {
     "name": "stderr",
     "output_type": "stream",
     "text": [
      " 94%|█████████▍| 93835/99999 [00:51<00:03, 1867.17it/s]"
     ]
    },
    {
     "name": "stdout",
     "output_type": "stream",
     "text": [
      "1.5635348888427425 35.06045916434718\n"
     ]
    },
    {
     "name": "stderr",
     "output_type": "stream",
     "text": [
      " 94%|█████████▍| 94022/99999 [00:51<00:03, 1851.14it/s]"
     ]
    },
    {
     "name": "stdout",
     "output_type": "stream",
     "text": [
      "1.617886158494284 30.84312613187908\n",
      "1.5683286300929185 33.16526442887172\n",
      "1.6460485269813345 35.21874613279513\n"
     ]
    },
    {
     "name": "stderr",
     "output_type": "stream",
     "text": [
      " 94%|█████████▍| 94208/99999 [00:51<00:03, 1800.01it/s]"
     ]
    },
    {
     "name": "stdout",
     "output_type": "stream",
     "text": [
      "1.6277377157163042 34.62531754396746\n"
     ]
    },
    {
     "name": "stderr",
     "output_type": "stream",
     "text": [
      " 94%|█████████▍| 94389/99999 [00:51<00:03, 1773.74it/s]"
     ]
    },
    {
     "name": "stdout",
     "output_type": "stream",
     "text": [
      "1.5910748221316902 32.292407999660014\n",
      "1.6694478375685733 34.37550679832308\n",
      "1.6099063885215752 33.350796025818894\n"
     ]
    },
    {
     "name": "stderr",
     "output_type": "stream",
     "text": [
      " 95%|█████████▍| 94581/99999 [00:52<00:02, 1813.81it/s]"
     ]
    },
    {
     "name": "stdout",
     "output_type": "stream",
     "text": [
      "1.685077148324272 33.627821675968306\n"
     ]
    },
    {
     "name": "stderr",
     "output_type": "stream",
     "text": [
      " 95%|█████████▍| 94946/99999 [00:52<00:02, 1790.37it/s]"
     ]
    },
    {
     "name": "stdout",
     "output_type": "stream",
     "text": [
      "1.6584951877302645 31.227040491104837\n",
      "1.5722284682027305 33.3684468550613\n",
      "1.6576557160494867 32.55100068394813\n",
      "1.555476517439821 30.639128991643684\n"
     ]
    },
    {
     "name": "stderr",
     "output_type": "stream",
     "text": [
      " 95%|█████████▌| 95319/99999 [00:52<00:02, 1808.46it/s]"
     ]
    },
    {
     "name": "stdout",
     "output_type": "stream",
     "text": [
      "1.6066215087037734 33.076629085463615\n",
      "1.6899143841283226 33.18819425186687\n",
      "1.4826258438550572 29.03508342930445\n",
      "1.7373702173499737 30.770971499630523\n"
     ]
    },
    {
     "name": "stderr",
     "output_type": "stream",
     "text": [
      " 96%|█████████▌| 95685/99999 [00:52<00:02, 1708.49it/s]"
     ]
    },
    {
     "name": "stdout",
     "output_type": "stream",
     "text": [
      "1.5368717816048412 30.086247599868592\n",
      "1.4682029892216388 30.98135329491894\n",
      "1.7414146082994204 29.004155919157643\n",
      "1.4886669316177465 30.837921466606733\n"
     ]
    },
    {
     "name": "stderr",
     "output_type": "stream",
     "text": [
      " 96%|█████████▌| 96052/99999 [00:52<00:02, 1757.41it/s]"
     ]
    },
    {
     "name": "stdout",
     "output_type": "stream",
     "text": [
      "1.603421472868005 34.30226039468474\n",
      "1.6929991749912505 32.14993587216533\n",
      "1.5742918766260297 31.36661137279801\n"
     ]
    },
    {
     "name": "stderr",
     "output_type": "stream",
     "text": [
      " 96%|█████████▌| 96241/99999 [00:52<00:02, 1793.86it/s]"
     ]
    },
    {
     "name": "stdout",
     "output_type": "stream",
     "text": [
      "1.6982224595073103 30.73803592552929\n"
     ]
    },
    {
     "name": "stderr",
     "output_type": "stream",
     "text": [
      " 96%|█████████▋| 96422/99999 [00:53<00:02, 1736.78it/s]"
     ]
    },
    {
     "name": "stdout",
     "output_type": "stream",
     "text": [
      "1.608047628418441 34.467683058353344\n",
      "1.5002665305301552 32.024625798212966\n",
      "1.5723081143390656 32.04783421196801\n"
     ]
    },
    {
     "name": "stderr",
     "output_type": "stream",
     "text": [
      " 97%|█████████▋| 96600/99999 [00:53<00:01, 1749.20it/s]"
     ]
    },
    {
     "name": "stdout",
     "output_type": "stream",
     "text": [
      "1.6542681980951555 34.253201638924615\n"
     ]
    },
    {
     "name": "stderr",
     "output_type": "stream",
     "text": [
      " 97%|█████████▋| 96787/99999 [00:53<00:01, 1782.55it/s]"
     ]
    },
    {
     "name": "stdout",
     "output_type": "stream",
     "text": [
      "1.615295674363955 30.71432953106644\n",
      "1.6706325163025613 32.37488656255792\n",
      "1.7253709555869305 30.70581330007246\n"
     ]
    },
    {
     "name": "stderr",
     "output_type": "stream",
     "text": [
      " 97%|█████████▋| 96991/99999 [00:53<00:01, 1849.21it/s]"
     ]
    },
    {
     "name": "stdout",
     "output_type": "stream",
     "text": [
      "1.6364908163369565 31.044856055642978\n"
     ]
    },
    {
     "name": "stderr",
     "output_type": "stream",
     "text": [
      " 97%|█████████▋| 97376/99999 [00:53<00:01, 1884.72it/s]"
     ]
    },
    {
     "name": "stdout",
     "output_type": "stream",
     "text": [
      "1.6362623332298092 29.933880527760515\n",
      "1.5573299942825565 33.346827125763355\n",
      "1.6776119753008347 32.46048665325411\n",
      "1.6159981298492383 30.182339525802682\n"
     ]
    },
    {
     "name": "stderr",
     "output_type": "stream",
     "text": [
      " 98%|█████████▊| 97766/99999 [00:53<00:01, 1916.95it/s]"
     ]
    },
    {
     "name": "stdout",
     "output_type": "stream",
     "text": [
      "1.5529642373040702 32.609721782060134\n",
      "1.543081480597984 32.01091828067431\n",
      "1.6611940211057519 32.17139173484047\n",
      "1.5777111879595183 30.804410652929807\n"
     ]
    },
    {
     "name": "stderr",
     "output_type": "stream",
     "text": [
      " 98%|█████████▊| 98150/99999 [00:53<00:00, 1882.54it/s]"
     ]
    },
    {
     "name": "stdout",
     "output_type": "stream",
     "text": [
      "1.609822345257464 32.3032518071827\n",
      "1.6479200126414308 29.08772429167518\n",
      "1.5516997077978747 31.658884866193723\n",
      "1.6544940495588394 33.48264618946215\n"
     ]
    },
    {
     "name": "stderr",
     "output_type": "stream",
     "text": [
      " 99%|█████████▊| 98535/99999 [00:54<00:00, 1895.93it/s]"
     ]
    },
    {
     "name": "stdout",
     "output_type": "stream",
     "text": [
      "1.6435978313465536 30.49404685725178\n",
      "1.5751282106566384 33.29752455139217\n",
      "1.767622385803096 29.48051457644003\n",
      "1.4252594070386526 28.522032701244676\n"
     ]
    },
    {
     "name": "stderr",
     "output_type": "stream",
     "text": [
      " 99%|█████████▉| 98916/99999 [00:54<00:00, 1827.30it/s]"
     ]
    },
    {
     "name": "stdout",
     "output_type": "stream",
     "text": [
      "1.7374416938927393 29.519388868235097\n",
      "1.5242699473255985 27.838879694459457\n",
      "1.7267256457461384 30.232620282853716\n",
      "1.6039231097665532 31.312824625232277\n"
     ]
    },
    {
     "name": "stderr",
     "output_type": "stream",
     "text": [
      " 99%|█████████▉| 99296/99999 [00:54<00:00, 1863.13it/s]"
     ]
    },
    {
     "name": "stdout",
     "output_type": "stream",
     "text": [
      "1.6595284594716622 31.197334413824716\n",
      "1.6193304543229972 32.44877485721804\n",
      "1.6046279972559705 30.475135505129586\n",
      "1.6156525021894457 32.002625791693625\n"
     ]
    },
    {
     "name": "stderr",
     "output_type": "stream",
     "text": [
      "100%|█████████▉| 99686/99999 [00:54<00:00, 1907.90it/s]"
     ]
    },
    {
     "name": "stdout",
     "output_type": "stream",
     "text": [
      "1.640024512947149 30.298968914720824\n",
      "1.5832179535126865 29.459609192351532\n",
      "1.685957184644017 31.2839634362601\n"
     ]
    },
    {
     "name": "stderr",
     "output_type": "stream",
     "text": [
      "100%|█████████▉| 99878/99999 [00:54<00:00, 1911.39it/s]"
     ]
    },
    {
     "name": "stdout",
     "output_type": "stream",
     "text": [
      "1.6244235887261258 33.87338242996622\n"
     ]
    },
    {
     "name": "stderr",
     "output_type": "stream",
     "text": [
      "100%|██████████| 99999/99999 [00:54<00:00, 1819.39it/s]"
     ]
    },
    {
     "name": "stdout",
     "output_type": "stream",
     "text": [
      "1.589196740424367 31.872994136762166\n"
     ]
    },
    {
     "name": "stderr",
     "output_type": "stream",
     "text": [
      "\n"
     ]
    }
   ],
   "source": [
    "temps = []\n",
    "for i in tqdm(range(1, 100000)):\n",
    "    sim.run()\n",
    "    temps.append(sim.temperature)\n",
    "    if i%100 ==0:\n",
    "        print(sim.get_distance(0, 6), sim.potential_energy())\n",
    "        sim.dump(i)"
   ]
  },
  {
   "cell_type": "code",
   "execution_count": 10,
   "metadata": {},
   "outputs": [
    {
     "data": {
      "text/plain": [
       "[<matplotlib.lines.Line2D at 0x7f39a143a310>]"
      ]
     },
     "execution_count": 10,
     "metadata": {},
     "output_type": "execute_result"
    },
    {
     "data": {
      "image/png": "[encoded data removed]",
      "text/plain": [
       "<Figure size 432x288 with 1 Axes>"
      ]
     },
     "metadata": {
      "needs_background": "light"
     },
     "output_type": "display_data"
    }
   ],
   "source": [
    "plt.plot(1/np.array(temps))"
   ]
  },
  {
   "cell_type": "code",
   "execution_count": 11,
   "metadata": {},
   "outputs": [],
   "source": [
    "a = [1,1,2,3,4,1]"
   ]
  },
  {
   "cell_type": "code",
   "execution_count": 12,
   "metadata": {},
   "outputs": [],
   "source": [
    "def pot(r):\n",
    "    x = 15*(1- (r - 1.12246 - 0.5)**2/0.25)**2\n",
    "    return x"
   ]
  },
  {
   "cell_type": "code",
   "execution_count": 13,
   "metadata": {},
   "outputs": [],
   "source": [
    "a = np.linspace(0, 20, 1000)"
   ]
  },
  {
   "cell_type": "code",
   "execution_count": 14,
   "metadata": {},
   "outputs": [
    {
     "data": {
      "text/plain": [
       "(0.0, 20.0)"
      ]
     },
     "execution_count": 14,
     "metadata": {},
     "output_type": "execute_result"
    },
    {
     "data": {
      "image/png": "[encoded data removed]",
      "text/plain": [
       "<Figure size 432x288 with 1 Axes>"
      ]
     },
     "metadata": {
      "needs_background": "light"
     },
     "output_type": "display_data"
    }
   ],
   "source": [
    "plt.plot(a, pot(a))\n",
    "plt.xlim(1,2.5)\n",
    "plt.ylim(0,20)"
   ]
  }
 ],
 "metadata": {
  "kernelspec": {
   "display_name": "lammps",
   "language": "python",
   "name": "lammps"
  },
  "language_info": {
   "codemirror_mode": {
    "name": "ipython",
    "version": 3
   },
   "file_extension": ".py",
   "mimetype": "text/x-python",
   "name": "python",
   "nbconvert_exporter": "python",
   "pygments_lexer": "ipython3",
   "version": "3.7.6"
  }
 },
 "nbformat": 4,
 "nbformat_minor": 4
}
