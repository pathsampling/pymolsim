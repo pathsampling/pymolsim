{
 "cells": [
  {
   "cell_type": "code",
   "execution_count": 2,
   "metadata": {},
   "outputs": [
    {
     "ename": "ImportError",
     "evalue": "/home/sarath/miniconda3/envs/lammps/lib/python3.7/site-packages/pymolsim-0.0.1-py3.7-linux-x86_64.egg/pymolsim/cmolsim.cpython-37m-x86_64-linux-gnu.so: undefined symbol: block_stats",
     "output_type": "error",
     "traceback": [
      "\u001b[0;31m---------------------------------------------------------------------------\u001b[0m",
      "\u001b[0;31mImportError\u001b[0m                               Traceback (most recent call last)",
      "\u001b[0;32m<ipython-input-2-a04c375872b9>\u001b[0m in \u001b[0;36m<module>\u001b[0;34m\u001b[0m\n\u001b[0;32m----> 1\u001b[0;31m \u001b[0;32mfrom\u001b[0m \u001b[0mpymolsim\u001b[0m\u001b[0;34m.\u001b[0m\u001b[0mcmolsim\u001b[0m \u001b[0;32mimport\u001b[0m \u001b[0mSystem\u001b[0m\u001b[0;34m\u001b[0m\u001b[0;34m\u001b[0m\u001b[0m\n\u001b[0m",
      "\u001b[0;31mImportError\u001b[0m: /home/sarath/miniconda3/envs/lammps/lib/python3.7/site-packages/pymolsim-0.0.1-py3.7-linux-x86_64.egg/pymolsim/cmolsim.cpython-37m-x86_64-linux-gnu.so: undefined symbol: block_stats"
     ]
    }
   ],
   "source": [
    "from pymolsim.cmolsim import System, Thermostat, Barostat, Average"
   ]
  },
  {
   "cell_type": "code",
   "execution_count": 3,
   "metadata": {},
   "outputs": [
    {
     "ename": "ImportError",
     "evalue": "/home/sarath/miniconda3/envs/lammps/lib/python3.7/site-packages/pymolsim-0.0.1-py3.7-linux-x86_64.egg/pymolsim/cmolsim.cpython-37m-x86_64-linux-gnu.so: undefined symbol: block_stats",
     "output_type": "error",
     "traceback": [
      "\u001b[0;31m---------------------------------------------------------------------------\u001b[0m",
      "\u001b[0;31mImportError\u001b[0m                               Traceback (most recent call last)",
      "\u001b[0;32m<ipython-input-3-f1a387ed944a>\u001b[0m in \u001b[0;36m<module>\u001b[0;34m\u001b[0m\n\u001b[0;32m----> 1\u001b[0;31m \u001b[0;32mfrom\u001b[0m \u001b[0mpymolsim\u001b[0m\u001b[0;34m.\u001b[0m\u001b[0mcmolsim\u001b[0m \u001b[0;32mimport\u001b[0m \u001b[0mThermostat\u001b[0m\u001b[0;34m,\u001b[0m \u001b[0mBarostat\u001b[0m\u001b[0;34m,\u001b[0m \u001b[0mAverage\u001b[0m\u001b[0;34m\u001b[0m\u001b[0;34m\u001b[0m\u001b[0m\n\u001b[0m",
      "\u001b[0;31mImportError\u001b[0m: /home/sarath/miniconda3/envs/lammps/lib/python3.7/site-packages/pymolsim-0.0.1-py3.7-linux-x86_64.egg/pymolsim/cmolsim.cpython-37m-x86_64-linux-gnu.so: undefined symbol: block_stats"
     ]
    }
   ],
   "source": [
    "from pymolsim.cmolsim import Thermostat, Barostat, Average"
   ]
  },
  {
   "cell_type": "code",
   "execution_count": 5,
   "metadata": {},
   "outputs": [],
   "source": [
    "sys = System()"
   ]
  },
  {
   "cell_type": "code",
   "execution_count": 8,
   "metadata": {},
   "outputs": [
    {
     "data": {
      "text/plain": [
       "[0.0, 0.0, 0.0]"
      ]
     },
     "execution_count": 8,
     "metadata": {},
     "output_type": "execute_result"
    }
   ],
   "source": [
    "sys.box"
   ]
  }
 ],
 "metadata": {
  "kernelspec": {
   "display_name": "lammps",
   "language": "python",
   "name": "lammps"
  },
  "language_info": {
   "codemirror_mode": {
    "name": "ipython",
    "version": 3
   },
   "file_extension": ".py",
   "mimetype": "text/x-python",
   "name": "python",
   "nbconvert_exporter": "python",
   "pygments_lexer": "ipython3",
   "version": "3.7.6"
  }
 },
 "nbformat": 4,
 "nbformat_minor": 4
}
