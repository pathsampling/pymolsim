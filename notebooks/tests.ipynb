{
 "cells": [
  {
   "cell_type": "code",
   "execution_count": 1,
   "metadata": {},
   "outputs": [],
   "source": [
    "import pyscal.core as pc\n",
    "from pymolsim.cmolsim import Sim, Thermostat, Barostat, Particle, Potential\n",
    "import pyscal.crystal_structures as pcs\n",
    "import os"
   ]
  },
  {
   "cell_type": "markdown",
   "metadata": {},
   "source": [
    "We need a conf"
   ]
  },
  {
   "cell_type": "code",
   "execution_count": 2,
   "metadata": {},
   "outputs": [],
   "source": [
    "sys = pc.System()\n",
    "sys.read_inputfile(\"conf.dump\", customkeys=[\"mass\", \"vx\", \"vy\", \"vz\"])"
   ]
  },
  {
   "cell_type": "code",
   "execution_count": 3,
   "metadata": {},
   "outputs": [],
   "source": [
    "atoms = sys.atoms\n",
    "box = sys.box\n",
    "#convert to particles\n",
    "particles = []\n",
    "for atom in atoms:\n",
    "    p = Particle()\n",
    "    p.mass = 1.00;\n",
    "    p.r = atom.pos;\n",
    "    p.v = [float(atom.custom[\"vx\"]), float(atom.custom[\"vy\"]), float(atom.custom[\"vz\"])]\n",
    "    p.type = atom.type\n",
    "    particles.append(p)\n",
    "sim = Sim()\n",
    "sim.particles = particles\n",
    "sim.nparticles = len(particles)\n",
    "sim.box = [sys.box[0][1]-sys.box[0][0], sys.box[1][1]-sys.box[1][0], sys.box[2][1]-sys.box[2][0]]\n",
    "sim.box_2 = [(sys.box[0][1]-sys.box[0][0])/2, (sys.box[1][1]-sys.box[1][0])/2, (sys.box[2][1]-sys.box[2][0])/2]\n",
    "sim.box_relative = [1.0, sim.box[1]/sim.box[0], sim.box[2]/sim.box[0]]\n",
    "sim.volume = sim.box[0]*sim.box[1]*sim.box[2]\n",
    "sim.rho = sim.nparticles/sim.volume\n",
    "sim.trajfile = os.path.join(os.getcwd(), \"traj.dat\")"
   ]
  },
  {
   "cell_type": "markdown",
   "metadata": {},
   "source": [
    "Now we need to set the md things"
   ]
  },
  {
   "cell_type": "code",
   "execution_count": 4,
   "metadata": {},
   "outputs": [],
   "source": [
    "sim.integrator = 0\n",
    "sim.beta = 0.5\n",
    "sim.pressure = 0\n",
    "sim.dt = 0.0025"
   ]
  },
  {
   "cell_type": "markdown",
   "metadata": {},
   "source": [
    "Now set up potenatil info"
   ]
  },
  {
   "cell_type": "code",
   "execution_count": 5,
   "metadata": {},
   "outputs": [],
   "source": [
    "pot = Potential()\n",
    "pot.epsilon = 1.0\n",
    "pot.sigma = 1.0\n",
    "pot.init()\n",
    "sim.potential = pot"
   ]
  },
  {
   "cell_type": "markdown",
   "metadata": {},
   "source": [
    "Try an inherited potential class"
   ]
  },
  {
   "cell_type": "code",
   "execution_count": null,
   "metadata": {},
   "outputs": [],
   "source": []
  },
  {
   "cell_type": "markdown",
   "metadata": {},
   "source": [
    "We do not need thermostat now"
   ]
  },
  {
   "cell_type": "code",
   "execution_count": 6,
   "metadata": {},
   "outputs": [],
   "source": [
    "sim.init()\n",
    "sim.md_step()"
   ]
  },
  {
   "cell_type": "code",
   "execution_count": 7,
   "metadata": {},
   "outputs": [],
   "source": [
    "sim.dump(0)"
   ]
  },
  {
   "cell_type": "code",
   "execution_count": 8,
   "metadata": {},
   "outputs": [],
   "source": [
    "sim.md_step()"
   ]
  },
  {
   "cell_type": "code",
   "execution_count": 9,
   "metadata": {},
   "outputs": [],
   "source": [
    "sim.dump(1)"
   ]
  },
  {
   "cell_type": "code",
   "execution_count": 10,
   "metadata": {},
   "outputs": [],
   "source": [
    "for i in range(2, 100):\n",
    "    sim.md_step()\n",
    "    sim.dump(i)"
   ]
  }
 ],
 "metadata": {
  "kernelspec": {
   "display_name": "lammps",
   "language": "python",
   "name": "lammps"
  },
  "language_info": {
   "codemirror_mode": {
    "name": "ipython",
    "version": 3
   },
   "file_extension": ".py",
   "mimetype": "text/x-python",
   "name": "python",
   "nbconvert_exporter": "python",
   "pygments_lexer": "ipython3",
   "version": "3.7.6"
  }
 },
 "nbformat": 4,
 "nbformat_minor": 4
}
